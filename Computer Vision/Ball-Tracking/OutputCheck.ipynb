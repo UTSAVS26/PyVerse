{
 "cells": [
  {
   "cell_type": "code",
   "execution_count": null,
   "metadata": {
    "vscode": {
     "languageId": "plaintext"
    }
   },
   "outputs": [],
   "source": [
    "import cv2\n",
    "from google.colab.patches import cv2_imshow\n",
    "\n",
    "video=cv2.VideoCapture(\"ball_track_video.mp4\")\n",
    "\n",
    "while video.isOpened():\n",
    "  ret,frame=video.read()\n",
    "  # vdo=cv2.cvtColor(frame,cv2.COLOR_BGR2HSV)\n",
    "  if ret==False:\n",
    "    break\n",
    "  cv2_imshow(vdo)"
   ]
  }
 ],
 "metadata": {
  "language_info": {
   "name": "python"
  }
 },
 "nbformat": 4,
 "nbformat_minor": 2
}
