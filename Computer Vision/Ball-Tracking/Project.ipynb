{
 "cells": [
  {
   "cell_type": "code",
   "execution_count": null,
   "metadata": {
    "vscode": {
     "languageId": "plaintext"
    }
   },
   "outputs": [],
   "source": [
    "import cv2\n",
    "import numpy as np\n",
    "\n",
    "video=cv2.VideoCapture(\"video.mp4\")\n",
    "#creating video storing or writting variable\n",
    "ball_track=cv2.VideoWriter(\"ball_track_video.mp4\",cv2.VideoWriter_fourcc('M','J','P','G'),50,(1920,1080))\n",
    "ball=[]\n",
    "while (video.isOpened()):\n",
    "  ret,frame=video.read()\n",
    "  if ret==False:\n",
    "    break\n",
    "  hsv_video=cv2.cvtColor(frame,cv2.COLOR_BGR2HSV)\n",
    "#detecting color------->in this case our color is yellow and its lower is 25 and upper is 52\n",
    "  lower_hue=np.array([25,0,0])\n",
    "  upper_hue=np.array([52,255,255])\n",
    "  mask=cv2.inRange(frame,lower_hue,upper_hue)\n",
    "  #finding contours\n",
    "  contours,h=cv2.findContours(mask,cv2.RETR_TREE,cv2.CHAIN_APPROX_SIMPLE)\n",
    "  center=None\n",
    "  if len(contours)>0:\n",
    "    con=max(contours,key=cv2.contourArea)\n",
    "    ((x,y),radius)=cv2.minEnclosingCircle(con)\n",
    "    moment=cv2.moments(con)\n",
    "    try:\n",
    "      center=(int(moment[\"m10\"]/moment[\"m00\"],int(moment[\"m01\"]/moment[\"m00\"])))\n",
    "      cv2.circle(frame,center,5,(125,250,67),-1)\n",
    "      ball.append(center)\n",
    "    except:\n",
    "      pass\n",
    "    if(len(ball)>2):\n",
    "      for i in range(1,len(ball)):\n",
    "        cv2.line(frame,ball[i+1],ball[i],(0,255,0),3)\n",
    "  ball_track.write(frame)\n",
    "ball_track.release()\n"
   ]
  }
 ],
 "metadata": {
  "language_info": {
   "name": "python"
  }
 },
 "nbformat": 4,
 "nbformat_minor": 2
}
