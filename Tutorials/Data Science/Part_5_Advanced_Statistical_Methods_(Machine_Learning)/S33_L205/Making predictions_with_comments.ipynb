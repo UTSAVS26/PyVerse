{
 "cells": [
  {
   "cell_type": "markdown",
   "metadata": {},
   "source": [
    "# Dummy variables or how to deal with categorical predictors"
   ]
  },
  {
   "cell_type": "markdown",
   "metadata": {},
   "source": [
    "## Import the relevant libraries"
   ]
  },
  {
   "cell_type": "code",
   "execution_count": null,
   "metadata": {},
   "outputs": [],
   "source": [
    "import numpy as np\n",
    "import pandas as pd\n",
    "import statsmodels.api as sm\n",
    "import matplotlib.pyplot as plt\n",
    "import seaborn as sns\n",
    "# We can override the default matplotlib styles with those of Seaborn\n",
    "sns.set()"
   ]
  },
  {
   "cell_type": "markdown",
   "metadata": {},
   "source": [
    "## Load the data"
   ]
  },
  {
   "cell_type": "code",
   "execution_count": null,
   "metadata": {},
   "outputs": [],
   "source": [
    "# Load the data from a .csv in the same folder. Since we will do some preprocessing, the variable is not called 'data' just yet!\n",
    "raw_data = pd.read_csv('1.03. Dummies.csv')"
   ]
  },
  {
   "cell_type": "code",
   "execution_count": null,
   "metadata": {
    "scrolled": true
   },
   "outputs": [],
   "source": [
    "# Let's check what's inside this data frame\n",
    "raw_data"
   ]
  },
  {
   "cell_type": "markdown",
   "metadata": {},
   "source": [
    "## Map the data"
   ]
  },
  {
   "cell_type": "code",
   "execution_count": null,
   "metadata": {
    "scrolled": true
   },
   "outputs": [],
   "source": [
    "# Map all 'No' entries with 0, and all 'Yes' entries with 1. Put that in a new variable called 'data'\n",
    "# Note data is a copy of raw_data, because of how pointers in Python work\n",
    "data = raw_data.copy()\n",
    "data['Attendance'] = data['Attendance'].map({'Yes': 1, 'No': 0})\n",
    "\n",
    "# Let's see what's inside\n",
    "data"
   ]
  },
  {
   "cell_type": "code",
   "execution_count": null,
   "metadata": {
    "scrolled": true
   },
   "outputs": [],
   "source": [
    "# This method gives us very nice descriptive statistics.\n",
    "data.describe()"
   ]
  },
  {
   "cell_type": "markdown",
   "metadata": {},
   "source": [
    "## Regression"
   ]
  },
  {
   "cell_type": "code",
   "execution_count": null,
   "metadata": {},
   "outputs": [],
   "source": [
    "# Following the regression equation, our dependent variable (y) is the GPA\n",
    "y = data ['GPA']\n",
    "# Similarly, our independent variable (x) is the SAT score\n",
    "x1 = data [['SAT','Attendance']]"
   ]
  },
  {
   "cell_type": "code",
   "execution_count": null,
   "metadata": {},
   "outputs": [],
   "source": [
    "# Add a constant. Esentially, we are adding a new column (equal in lenght to x), which consists only of 1s\n",
    "x = sm.add_constant(x1)\n",
    "# Fit the model, according to the OLS (ordinary least squares) method with a dependent variable y and an idependent x\n",
    "results = sm.OLS(y,x).fit()\n",
    "# Print a nice summary of the regression.\n",
    "results.summary()"
   ]
  },
  {
   "cell_type": "markdown",
   "metadata": {},
   "source": [
    "## Plot the regression line(s) on the scatter plot"
   ]
  },
  {
   "cell_type": "code",
   "execution_count": null,
   "metadata": {},
   "outputs": [],
   "source": [
    "# Create a scatter plot of SAT and GPA\n",
    "plt.scatter(data['SAT'],y)\n",
    "# Define the two regression equations, depending on whether they attended (yes), or didn't (no)\n",
    "yhat_no = 0.6439 + 0.0014*data['SAT']\n",
    "yhat_yes = 0.8665 + 0.0014*data['SAT']\n",
    "# Plot the two regression lines\n",
    "fig = plt.plot(data['SAT'],yhat_no, lw=2, c='#006837')\n",
    "fig = plt.plot(data['SAT'],yhat_yes, lw=2, c='#a50026')\n",
    "# Name your axes :)\n",
    "plt.xlabel('SAT', fontsize = 20)\n",
    "plt.ylabel('GPA', fontsize = 20)\n",
    "plt.show()"
   ]
  },
  {
   "cell_type": "markdown",
   "metadata": {},
   "source": [
    "## Plot the regression line(s) on the scatter plot and color the data points"
   ]
  },
  {
   "cell_type": "code",
   "execution_count": null,
   "metadata": {},
   "outputs": [],
   "source": [
    "# In this code I want to colour the points depending on attendance\n",
    "# Note: This code would have been very easy in Seaborn\n",
    "\n",
    "# Create one scatter plot which contains all observations\n",
    "# Use the series 'Attendance' as color, and choose a colour map of your choice\n",
    "# The colour map we've chosen is completely arbitrary\n",
    "plt.scatter(data['SAT'],data['GPA'], c=data['Attendance'],cmap='RdYlGn_r')\n",
    "\n",
    "# Define the two regression equations (one with a dummy = 1, the other with dummy = 0)\n",
    "# We have those above already, but for the sake of consistency, we will also include them here\n",
    "yhat_no = 0.6439 + 0.0014*data['SAT']\n",
    "yhat_yes = 0.8665 + 0.0014*data['SAT']\n",
    "\n",
    "# Plot the two regression lines\n",
    "fig = plt.plot(data['SAT'],yhat_no, lw=2, c='#006837')\n",
    "fig = plt.plot(data['SAT'],yhat_yes, lw=2, c='#a50026')\n",
    "plt.xlabel('SAT', fontsize = 20)\n",
    "plt.ylabel('GPA', fontsize = 20)\n",
    "plt.show()"
   ]
  },
  {
   "cell_type": "markdown",
   "metadata": {},
   "source": [
    "## Add the original regression line"
   ]
  },
  {
   "cell_type": "code",
   "execution_count": null,
   "metadata": {},
   "outputs": [],
   "source": [
    "# Same as above, this time we are including the regression line WITHOUT the dummies.\n",
    "\n",
    "# In this code I want to color the points depending on attendance\n",
    "# Note: This code would have been very easy in Seaborn\n",
    "\n",
    "# Create one scatter plot which contains all observations\n",
    "# Use the series 'Attendance' as color, and choose a colour map of your choice\n",
    "# The colour map we've chosen is completely arbitrary\n",
    "plt.scatter(data['SAT'],data['GPA'], c=data['Attendance'],cmap='RdYlGn_r')\n",
    "\n",
    "# Define the two regression equations (one with a dummy = 1, the other with dummy = 0)\n",
    "# We have those above already, but for the sake of consistency, we will also include them here\n",
    "yhat_no = 0.6439 + 0.0014*data['SAT']\n",
    "yhat_yes = 0.8665 + 0.0014*data['SAT']\n",
    "# Original regression line\n",
    "yhat = 0.0017*data['SAT'] + 0.275\n",
    "\n",
    "# Plot the two regression lines\n",
    "fig = plt.plot(data['SAT'],yhat_no, lw=2, c='#006837', label ='regression line1')\n",
    "fig = plt.plot(data['SAT'],yhat_yes, lw=2, c='#a50026', label ='regression line2')\n",
    "# Plot the original regression line\n",
    "fig = plt.plot(data['SAT'],yhat, lw=3, c='#4C72B0', label ='regression line')\n",
    "\n",
    "plt.xlabel('SAT', fontsize = 20)\n",
    "plt.ylabel('GPA', fontsize = 20)\n",
    "plt.show()"
   ]
  },
  {
   "cell_type": "markdown",
   "metadata": {},
   "source": [
    "# How to make predictions based on the regressions we create"
   ]
  },
  {
   "cell_type": "code",
   "execution_count": null,
   "metadata": {},
   "outputs": [],
   "source": [
    "# Let's see what's inside the independent variable. \n",
    "# The first column comes from the 'add_constant' method. It's only 1s, told ya! \n",
    "x"
   ]
  },
  {
   "cell_type": "code",
   "execution_count": null,
   "metadata": {},
   "outputs": [],
   "source": [
    "# Create a new data frame, identical in organization to X.\n",
    "# The constant is always 1, while each of the lines corresponds to an observation (student)\n",
    "new_data = pd.DataFrame({'const': 1,'SAT': [1700, 1670], 'Attendance': [0, 1]})\n",
    "# By default, when you create a df (not load, but create), the columns are sorted alphabetically\n",
    "# So if we don't reorder them, they would be 'Attendance', 'const', 'SAT'\n",
    "# If you feed them in the wrong order, you will get wrong results!\n",
    "new_data = new_data[['const','SAT','Attendance']]\n",
    "new_data"
   ]
  },
  {
   "cell_type": "code",
   "execution_count": null,
   "metadata": {},
   "outputs": [],
   "source": [
    "# I am renaming the indices for the purposes of this example.\n",
    "# That's by not really a good practice => I won't overwrite the variable.\n",
    "# If I want to use NumPy, sklearn, etc. methods on a df with renamed indices, they will simply be lost\n",
    "# and returned to 0,1,2,3, etc.\n",
    "new_data.rename(index={0: 'Bob',1:'Alice'})"
   ]
  },
  {
   "cell_type": "code",
   "execution_count": null,
   "metadata": {},
   "outputs": [],
   "source": [
    "# Use the predict method on the regression with the new data as a single argument\n",
    "predictions = results.predict(new_data)\n",
    "# The result\n",
    "predictions"
   ]
  },
  {
   "cell_type": "code",
   "execution_count": null,
   "metadata": {},
   "outputs": [],
   "source": [
    "# If we want we can create a data frame, including everything\n",
    "predictionsdf = pd.DataFrame({'Predictions':predictions})\n",
    "# Join the two data frames\n",
    "joined = new_data.join(predictionsdf)\n",
    "# Rename the indices as before (not a good practice in general) \n",
    "joined.rename(index={0: 'Bob',1:'Alice'})"
   ]
  }
 ],
 "metadata": {
  "kernelspec": {
   "display_name": "Python 3",
   "language": "python",
   "name": "python3"
  },
  "language_info": {
   "codemirror_mode": {
    "name": "ipython",
    "version": 3
   },
   "file_extension": ".py",
   "mimetype": "text/x-python",
   "name": "python",
   "nbconvert_exporter": "python",
   "pygments_lexer": "ipython3",
   "version": "3.6.4"
  }
 },
 "nbformat": 4,
 "nbformat_minor": 2
}
