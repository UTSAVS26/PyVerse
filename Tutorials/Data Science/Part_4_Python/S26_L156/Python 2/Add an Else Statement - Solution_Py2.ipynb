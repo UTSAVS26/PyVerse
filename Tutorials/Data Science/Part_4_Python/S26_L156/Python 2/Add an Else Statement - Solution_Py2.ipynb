{
 "cells": [
  {
   "cell_type": "markdown",
   "metadata": {},
   "source": [
    "## Add an ELSE Statement"
   ]
  },
  {
   "cell_type": "markdown",
   "metadata": {},
   "source": [
    "*Suggested Answers follow (usually there are multiple ways to solve a problem in Python).*"
   ]
  },
  {
   "cell_type": "markdown",
   "metadata": {},
   "source": [
    "Let x represent the number of orders received during a certain day. \n",
    "Assign 102 to x. Create a program that prints \"A busy day\" if x is greater than 100, and \"A calm day\" otherwise. Change x to 97 to verify your code works properly."
   ]
  },
  {
   "cell_type": "code",
   "execution_count": 1,
   "metadata": {},
   "outputs": [
    {
     "name": "stdout",
     "output_type": "stream",
     "text": [
      "A busy day\n"
     ]
    }
   ],
   "source": [
    "x = 102\n",
    "\n",
    "if x > 100:\n",
    "    print \"A busy day\"\n",
    "else:\n",
    "    print \"A calm day\""
   ]
  }
 ],
 "metadata": {
  "anaconda-cloud": {},
  "kernelspec": {
   "display_name": "Python 2",
   "language": "python",
   "name": "ipykernel_py2"
  },
  "language_info": {
   "codemirror_mode": {
    "name": "ipython",
    "version": 2
   },
   "file_extension": ".py",
   "mimetype": "text/x-python",
   "name": "python",
   "nbconvert_exporter": "python",
   "pygments_lexer": "ipython2",
   "version": "2.7.13"
  }
 },
 "nbformat": 4,
 "nbformat_minor": 1
}
