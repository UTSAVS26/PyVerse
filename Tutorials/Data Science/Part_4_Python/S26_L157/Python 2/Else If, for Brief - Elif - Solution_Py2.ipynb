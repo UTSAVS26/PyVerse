{
 "cells": [
  {
   "cell_type": "markdown",
   "metadata": {},
   "source": [
    "## Else if, for Brief - ELIF"
   ]
  },
  {
   "cell_type": "markdown",
   "metadata": {},
   "source": [
    "*Suggested Answers follow (usually there are multiple ways to solve a problem in Python).*"
   ]
  },
  {
   "cell_type": "markdown",
   "metadata": {},
   "source": [
    "Assign 200 to x.\n",
    "Create the following piece of code:\n",
    "If x > 200, print out \"Big\"; \n",
    "If x > 100 and x <= 200, print out \"Average\"; \n",
    "and If x <= 100, print out \"Small\".\n",
    "Use the If, Elif, and Else keywords in your code.\n",
    "\n",
    "Change the initial value of x to see how your output will vary."
   ]
  },
  {
   "cell_type": "code",
   "execution_count": 1,
   "metadata": {
    "scrolled": true
   },
   "outputs": [
    {
     "name": "stdout",
     "output_type": "stream",
     "text": [
      "Average\n"
     ]
    }
   ],
   "source": [
    "x = 200\n",
    "\n",
    "if x > 200: \n",
    "    print \"Big\"\n",
    "elif x > 100 and x <= 200:\n",
    "    print \"Average\"\n",
    "else:\n",
    "    print \"Small\"    "
   ]
  },
  {
   "cell_type": "markdown",
   "metadata": {},
   "source": [
    "Keep the first two conditions of the previous code. Add a new ELIF statement, so that, eventually, the program prints \"Small\" if x >= 0 and x <= 100, and \"Negative\" if x < 0. \n",
    "Let x carry the value of 50 and then of -50 to check if your code is correct."
   ]
  },
  {
   "cell_type": "code",
   "execution_count": 2,
   "metadata": {},
   "outputs": [
    {
     "name": "stdout",
     "output_type": "stream",
     "text": [
      "Average\n"
     ]
    }
   ],
   "source": [
    "x = 200\n",
    "\n",
    "if x > 200: \n",
    "    print \"Big\"\n",
    "elif x > 100 and x <= 200:\n",
    "    print \"Average\"\n",
    "elif x >= 0 and x <= 100:\n",
    "    print \"Small\"  \n",
    "else:\n",
    "    print \"Negative\""
   ]
  }
 ],
 "metadata": {
  "anaconda-cloud": {},
  "kernelspec": {
   "display_name": "Python 2",
   "language": "python",
   "name": "ipykernel_py2"
  },
  "language_info": {
   "codemirror_mode": {
    "name": "ipython",
    "version": 2
   },
   "file_extension": ".py",
   "mimetype": "text/x-python",
   "name": "python",
   "nbconvert_exporter": "python",
   "pygments_lexer": "ipython2",
   "version": "2.7.13"
  }
 },
 "nbformat": 4,
 "nbformat_minor": 1
}
