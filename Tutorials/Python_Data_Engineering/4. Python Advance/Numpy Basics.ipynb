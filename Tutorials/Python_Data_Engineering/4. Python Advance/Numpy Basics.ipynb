{
 "cells": [
  {
   "cell_type": "markdown",
   "id": "385ac84b",
   "metadata": {},
   "source": [
    "## Python Advance: NumPy Basics"
   ]
  },
  {
   "cell_type": "markdown",
   "id": "b91fd227",
   "metadata": {},
   "source": [
    "![caption](images/numpy-logo.jpg)\n",
    "***\n",
    "NumPy, which stands for Numerical Python, is a library consisting of multidimensional array objects and a collection of routines for processing those arrays. Using NumPy, mathematical and logical operations on arrays can be performed. In this part, along with the basics of NumPy such as its architecture and environment, we shall also discuss the various array functions, types of indexing, etc.\n",
    "\n",
    "We can install numpy by `pip install numpy`\n",
    "\n",
    "- Main object: **`ndarray`**"
   ]
  },
  {
   "cell_type": "markdown",
   "id": "46e792ab",
   "metadata": {},
   "source": [
    "\n",
    "# ndarray\n",
    "***\n",
    "\n",
    "The most important object defined in NumPy is an N-dimensional array type called ndarray. It describes the collection of items of the same type. Items in the collection can be accessed using a zero-based index.\n",
    "\n",
    "Every item in an ndarray takes the same size of block in the memory. Each element in ndarray is an object of data-type object (called dtype).Any item extracted from ndarray object (by slicing) is represented by a Python object of one of array scalar types. An instance of ndarray class can be constructed by different array creation routines described later.\n",
    "\n",
    "You import the function in python by calling `import numpy`. The basic ndarray is created using an array function in NumPy as follows −"
   ]
  },
  {
   "cell_type": "code",
   "execution_count": 3,
   "id": "6cfde64f",
   "metadata": {},
   "outputs": [
    {
     "data": {
      "text/plain": [
       "<function numpy.array>"
      ]
     },
     "execution_count": 3,
     "metadata": {},
     "output_type": "execute_result"
    }
   ],
   "source": [
    "import numpy\n",
    "numpy.array"
   ]
  },
  {
   "cell_type": "markdown",
   "id": "f8bdce89",
   "metadata": {},
   "source": [
    "\n",
    "## How do I create Arrays in Python?\n",
    "***\n",
    "* Create an array from a regular Python list or tuple using the array function. \n",
    "\n",
    "* The type of the resulting array is deduced from the type of the elements in the sequences"
   ]
  },
  {
   "cell_type": "markdown",
   "id": "6da510e1",
   "metadata": {},
   "source": [
    "It creates an ndarray from any object exposing array interface, or from any method that returns an array."
   ]
  },
  {
   "cell_type": "code",
   "execution_count": 4,
   "id": "1184acb4",
   "metadata": {},
   "outputs": [
    {
     "data": {
      "text/plain": [
       "array([10, 20, 30])"
      ]
     },
     "execution_count": 4,
     "metadata": {},
     "output_type": "execute_result"
    }
   ],
   "source": [
    "import numpy as np\n",
    "\n",
    "# From list: 1d array\n",
    "my_list = [10, 20, 30]\n",
    "np.array(my_list)"
   ]
  },
  {
   "cell_type": "code",
   "execution_count": 5,
   "id": "db86d791",
   "metadata": {},
   "outputs": [
    {
     "data": {
      "text/plain": [
       "array([[ 5, 10, 15],\n",
       "       [20, 25, 30],\n",
       "       [35, 40, 45]])"
      ]
     },
     "execution_count": 5,
     "metadata": {},
     "output_type": "execute_result"
    }
   ],
   "source": [
    "# From list: 2d array\n",
    "list_of_lists =  [[5, 10, 15], [20, 25, 30], [35, 40, 45]]\n",
    "np.array(list_of_lists)"
   ]
  },
  {
   "cell_type": "code",
   "execution_count": 8,
   "id": "ed564889",
   "metadata": {},
   "outputs": [
    {
     "data": {
      "text/plain": [
       "numpy.ndarray"
      ]
     },
     "execution_count": 8,
     "metadata": {},
     "output_type": "execute_result"
    }
   ],
   "source": [
    "type(np.array(list_of_lists))"
   ]
  },
  {
   "cell_type": "markdown",
   "id": "780518ae",
   "metadata": {},
   "source": [
    "An example of how does n-dimensional looks"
   ]
  },
  {
   "cell_type": "markdown",
   "id": "255be292",
   "metadata": {},
   "source": [
    "## Types\n",
    "\n",
    "![NumPy Array Types](images/numpy-types1.jpg)"
   ]
  },
  {
   "cell_type": "markdown",
   "id": "05b9d6c8",
   "metadata": {},
   "source": [
    "`ndarray` is also known by the alias `array`. Note that `numpy.array` is not the same as the Standard Python Library class `array.array`, which only handles one-dimensional arrays and offers less functionality. The more important attributes of an `ndarray` object are:\n",
    "\n",
    "***ndarray.shape***\n",
    "the dimensions of the array. This is a tuple of integers indicating the size of the array in each dimension. For a matrix with n rows and m columns, `shape` will be `(n,m)`. The length of the `shape` tuple is therefore the rank, or number of dimensions,`ndim`.\n",
    "\n",
    "***ndarray.dtype***\n",
    "an object describing the type of the elements in the array. One can create or specify dtype’s using standard Python types. Additionally NumPy provides types of its own. numpy.int32, numpy.int16, and numpy.float64 are some examples.\n",
    "\n",
    "***ndarray.reshape***\n",
    "Returns an array containing the same data with a new shape."
   ]
  },
  {
   "cell_type": "markdown",
   "id": "7b54ecb9",
   "metadata": {},
   "source": [
    "\n",
    "\n",
    "## numpy.dtype\n",
    "***\n",
    "<br/>\n",
    "The data type or dtype describes the kind of elements that are contained within the array.\n",
    "\n",
    "* **bool**: Boolean values\n",
    "<br/><br/>\n",
    "\n",
    "* **int**: Integer values. Can be int16, int32, or int64.\n",
    "\n",
    "\n",
    "* **float**: Floating point values. Can be float16, float32, or float64.\n",
    "<br/><br/>\n",
    "\n",
    "\n",
    "* ** string**: Text. Can be string or unicode (this distinction is greatly simplified in Python 3)"
   ]
  },
  {
   "cell_type": "markdown",
   "id": "2091298b",
   "metadata": {},
   "source": [
    "## Let's try it ourselves!\n",
    "***\n",
    "### Create a vector from the list [10, 20, 30]. Print the dtype and shape."
   ]
  },
  {
   "cell_type": "code",
   "execution_count": 7,
   "id": "7fba5517",
   "metadata": {},
   "outputs": [],
   "source": [
    "my_list = [10, 20, 30]\n",
    "\n",
    "arr = np.array(my_list)"
   ]
  },
  {
   "cell_type": "code",
   "execution_count": 11,
   "id": "a68c901a",
   "metadata": {},
   "outputs": [
    {
     "data": {
      "text/plain": [
       "(3,)"
      ]
     },
     "execution_count": 11,
     "metadata": {},
     "output_type": "execute_result"
    }
   ],
   "source": [
    "arr.shape"
   ]
  },
  {
   "cell_type": "code",
   "execution_count": 12,
   "id": "d5dccc53",
   "metadata": {},
   "outputs": [],
   "source": [
    "list_of_lists =  [[5, 10, 15], [20, 25, 30], [35, 40, 45]]\n",
    "twod_array = np.array(list_of_lists)"
   ]
  },
  {
   "cell_type": "code",
   "execution_count": 13,
   "id": "33ffe32b",
   "metadata": {},
   "outputs": [
    {
     "data": {
      "text/plain": [
       "(3, 3)"
      ]
     },
     "execution_count": 13,
     "metadata": {},
     "output_type": "execute_result"
    }
   ],
   "source": [
    "twod_array.shape"
   ]
  },
  {
   "cell_type": "code",
   "execution_count": 11,
   "id": "c4eda0d9",
   "metadata": {},
   "outputs": [
    {
     "name": "stdout",
     "output_type": "stream",
     "text": [
      "int64\n",
      "(3,)\n"
     ]
    }
   ],
   "source": [
    "my_list = [10, 20, 30]\n",
    "\n",
    "arr = np.array(my_list)\n",
    "\n",
    "print(arr.dtype)\n",
    "print(arr.shape)"
   ]
  },
  {
   "cell_type": "markdown",
   "id": "3bc8e4ab",
   "metadata": {},
   "source": [
    "# NumPy Built-in methods"
   ]
  },
  {
   "cell_type": "markdown",
   "id": "3d486524",
   "metadata": {},
   "source": [
    "## `arange`\n",
    "***\n",
    "arange(**[start,]** ***stop[, step,][, dtype]***) : Returns an array with evenly spaced elements as per the interval. The interval mentioned is half opened i.e. **[Start, Stop)** (similar to the Python **`range()`** function)."
   ]
  },
  {
   "cell_type": "code",
   "execution_count": 16,
   "id": "28889285",
   "metadata": {},
   "outputs": [
    {
     "data": {
      "text/plain": [
       "array([0, 3, 6, 9])"
      ]
     },
     "execution_count": 16,
     "metadata": {},
     "output_type": "execute_result"
    }
   ],
   "source": [
    "import numpy as np\n",
    "\n",
    "np.arange(0, 10, 3)"
   ]
  },
  {
   "cell_type": "markdown",
   "id": "74978123",
   "metadata": {},
   "source": [
    "## `zeros` and `ones`\n",
    "***\n",
    "Generate arrays of all zeros and ones"
   ]
  },
  {
   "cell_type": "code",
   "execution_count": 16,
   "id": "8aa7839b",
   "metadata": {},
   "outputs": [
    {
     "data": {
      "text/plain": [
       "array([[0., 0., 0.],\n",
       "       [0., 0., 0.]])"
      ]
     },
     "execution_count": 16,
     "metadata": {},
     "output_type": "execute_result"
    }
   ],
   "source": [
    "np.zeros((2, 3))"
   ]
  },
  {
   "cell_type": "code",
   "execution_count": 17,
   "id": "4e3eff79",
   "metadata": {},
   "outputs": [
    {
     "data": {
      "text/plain": [
       "array([[1., 1., 1., 1., 1.],\n",
       "       [1., 1., 1., 1., 1.]])"
      ]
     },
     "execution_count": 17,
     "metadata": {},
     "output_type": "execute_result"
    }
   ],
   "source": [
    "np.ones((2, 5))"
   ]
  },
  {
   "cell_type": "markdown",
   "id": "f3b264db",
   "metadata": {},
   "source": [
    "## `linspace`\n",
    "***\n",
    "Linspace: Return **evenly spaced** numbers over a specified interval.\n",
    "\n",
    "    linspace(start, stop, num=50, endpoint=True, retstep=False)\n",
    "\n",
    "* Will return `num` number of values\n",
    "* Equally spaced samples in the closed interval [start, stop] or the half-open interval [start, stop)\n",
    "* Closed or half-open interval depends on whether 'endpoint' is True or False."
   ]
  },
  {
   "cell_type": "code",
   "execution_count": 19,
   "id": "ad881b6a",
   "metadata": {},
   "outputs": [
    {
     "data": {
      "text/plain": [
       "array([ 0.        ,  1.66666667,  3.33333333,  5.        ,  6.66666667,\n",
       "        8.33333333, 10.        ])"
      ]
     },
     "execution_count": 19,
     "metadata": {},
     "output_type": "execute_result"
    }
   ],
   "source": [
    "# divide into 7 interval from 0 to 10\n",
    "np.linspace(0, 10, 7)"
   ]
  },
  {
   "cell_type": "markdown",
   "id": "c19c847f",
   "metadata": {},
   "source": [
    "\n",
    "\n",
    "## How do I generate Random Numbers?\n",
    "***\n",
    "<br/>\n",
    "Numpy also has lots of ways to create random number arrays of given shape\n",
    "\n",
    "- **`rand`**:\n",
    "\n",
    "`numpy.random.rand(d0, d1, …, dn)` Create an array of the given shape and populate it with random samples from a **uniform distribution**\n",
    "\n",
    "- **`randn`**: \n",
    "\n",
    "`numpy.random.randn(d0, d1, …, dn)`creates an array of specified shape and fills it with random values as per **standard normal distribution**.\n",
    "\n",
    "If positive arguments are provided, randn generates an array of shape (d0, d1, …, dn), filled with random floats sampled from a univariate “normal” (Gaussian) distribution of mean 0 and variance 1 (if any of the d_i are floats, they are first converted to integers by truncation).\n",
    "\n",
    "A single float randomly sampled from the distribution is returned if no argument is provided.\n",
    "\n",
    "- **`randint`**: \n",
    "\n",
    "Return random integers from the “discrete uniform” distribution of the specified dtype in the “half-open” interval [low, high). If high is None (the default), then results are from [0, low)."
   ]
  },
  {
   "cell_type": "code",
   "execution_count": 20,
   "id": "9bf56c2f",
   "metadata": {},
   "outputs": [
    {
     "data": {
      "text/plain": [
       "array([[0.6131258 , 0.23897206, 0.11549765, 0.83423578],\n",
       "       [0.1604556 , 0.20666809, 0.58085897, 0.30308941],\n",
       "       [0.23075721, 0.91418951, 0.82369072, 0.86131527]])"
      ]
     },
     "execution_count": 20,
     "metadata": {},
     "output_type": "execute_result"
    }
   ],
   "source": [
    "# random number (uniform distribution) array of shape (3 , 4)\n",
    "\n",
    "np.random.rand(3, 4)"
   ]
  },
  {
   "cell_type": "code",
   "execution_count": 21,
   "id": "aaa6144e",
   "metadata": {},
   "outputs": [
    {
     "name": "stdout",
     "output_type": "stream",
     "text": [
      "[[-1.1059393   0.75426369  1.28806142]\n",
      " [ 0.85788773  0.37334307  0.47490309]]\n"
     ]
    }
   ],
   "source": [
    "# random number (standard normal distribution) array of shape (2, 3)\n",
    "\n",
    "print (np.random.randn(2, 3))"
   ]
  },
  {
   "cell_type": "code",
   "execution_count": 22,
   "id": "7d11b355",
   "metadata": {},
   "outputs": [
    {
     "data": {
      "text/plain": [
       "array([30, 10, 19,  7, 33, 38, 31, 21,  9, 14])"
      ]
     },
     "execution_count": 22,
     "metadata": {},
     "output_type": "execute_result"
    }
   ],
   "source": [
    "# 10 random integers between 4 (inclusive) to 40 (exclusive)\n",
    "\n",
    "np.random.randint(4, 40, 10)"
   ]
  },
  {
   "cell_type": "code",
   "execution_count": 23,
   "id": "ca70f895",
   "metadata": {},
   "outputs": [
    {
     "data": {
      "text/plain": [
       "array([[17, 23, 19, 26],\n",
       "       [36, 13, 15, 27],\n",
       "       [26, 37,  9, 20],\n",
       "       [41,  9, 16,  0]])"
      ]
     },
     "execution_count": 23,
     "metadata": {},
     "output_type": "execute_result"
    }
   ],
   "source": [
    "# 10 random integers upto 50 (exclusive). This makes the start value default to 0.\n",
    "# The size parameter dictates the return array shape\n",
    "\n",
    "np.random.randint(50, size=(4,4))"
   ]
  },
  {
   "cell_type": "code",
   "execution_count": null,
   "id": "a8b792c0",
   "metadata": {},
   "outputs": [],
   "source": []
  }
 ],
 "metadata": {
  "kernelspec": {
   "display_name": "Python 3 (ipykernel)",
   "language": "python",
   "name": "python3"
  },
  "language_info": {
   "codemirror_mode": {
    "name": "ipython",
    "version": 3
   },
   "file_extension": ".py",
   "mimetype": "text/x-python",
   "name": "python",
   "nbconvert_exporter": "python",
   "pygments_lexer": "ipython3",
   "version": "3.10.6"
  }
 },
 "nbformat": 4,
 "nbformat_minor": 5
}
