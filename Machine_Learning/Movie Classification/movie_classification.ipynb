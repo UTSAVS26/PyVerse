{
 "cells": [
  {
   "cell_type": "code",
   "id": "initial_id",
   "metadata": {
    "collapsed": true,
    "ExecuteTime": {
     "end_time": "2024-08-22T08:55:36.047206Z",
     "start_time": "2024-08-22T08:55:36.037547Z"
    }
   },
   "source": [
    "import pandas as pd\n",
    "import numpy as np\n",
    "import matplotlib.pyplot as plt\n",
    "import seaborn as sns\n",
    "from collections import Counter\n",
    "import warnings\n",
    "\n",
    "warnings.simplefilter(action='ignore', category=FutureWarning)"
   ],
   "outputs": [],
   "execution_count": 80
  },
  {
   "metadata": {
    "ExecuteTime": {
     "end_time": "2024-08-22T08:55:37.412268Z",
     "start_time": "2024-08-22T08:55:36.074463Z"
    }
   },
   "cell_type": "code",
   "source": "df_train = pd.read_csv('train_data.txt', sep=':::',names=['ID', 'TITLE', 'GENRE','DESCRIPTION'],engine='python')    ",
   "id": "6c6a04cee36c441",
   "outputs": [],
   "execution_count": 81
  },
  {
   "metadata": {
    "ExecuteTime": {
     "end_time": "2024-08-22T08:55:38.377996Z",
     "start_time": "2024-08-22T08:55:37.414063Z"
    }
   },
   "cell_type": "code",
   "source": "x_test = pd.read_csv('test_data.txt', sep=':::',names=['ID', 'TITLE','DESCRIPTION'],engine='python')  ",
   "id": "51b62e6fe51d1f27",
   "outputs": [],
   "execution_count": 82
  },
  {
   "metadata": {
    "ExecuteTime": {
     "end_time": "2024-08-22T08:55:38.641608Z",
     "start_time": "2024-08-22T08:55:38.392316Z"
    }
   },
   "cell_type": "code",
   "source": "df_test_sol = pd.read_csv('test_data_solution.txt', sep=':::',names=['ID','TITLE','GENRE','DESCRIPTION'],engine='python')",
   "id": "4d15bc9923e75a8f",
   "outputs": [],
   "execution_count": 83
  },
  {
   "metadata": {
    "ExecuteTime": {
     "end_time": "2024-08-22T08:55:38.655030Z",
     "start_time": "2024-08-22T08:55:38.643630Z"
    }
   },
   "cell_type": "code",
   "source": "df_train.head()",
   "id": "22196e6ba37b9fd6",
   "outputs": [
    {
     "data": {
      "text/plain": [
       "   ID                               TITLE       GENRE  \\\n",
       "0   1       Oscar et la dame rose (2009)       drama    \n",
       "1   2                       Cupid (1997)    thriller    \n",
       "2   3   Young, Wild and Wonderful (1980)       adult    \n",
       "3   4              The Secret Sin (1915)       drama    \n",
       "4   5             The Unrecovered (2007)       drama    \n",
       "\n",
       "                                         DESCRIPTION  \n",
       "0   Listening in to a conversation between his do...  \n",
       "1   A brother and sister with a past incestuous r...  \n",
       "2   As the bus empties the students for their fie...  \n",
       "3   To help their unemployed father make ends mee...  \n",
       "4   The film's title refers not only to the un-re...  "
      ],
      "text/html": [
       "<div>\n",
       "<style scoped>\n",
       "    .dataframe tbody tr th:only-of-type {\n",
       "        vertical-align: middle;\n",
       "    }\n",
       "\n",
       "    .dataframe tbody tr th {\n",
       "        vertical-align: top;\n",
       "    }\n",
       "\n",
       "    .dataframe thead th {\n",
       "        text-align: right;\n",
       "    }\n",
       "</style>\n",
       "<table border=\"1\" class=\"dataframe\">\n",
       "  <thead>\n",
       "    <tr style=\"text-align: right;\">\n",
       "      <th></th>\n",
       "      <th>ID</th>\n",
       "      <th>TITLE</th>\n",
       "      <th>GENRE</th>\n",
       "      <th>DESCRIPTION</th>\n",
       "    </tr>\n",
       "  </thead>\n",
       "  <tbody>\n",
       "    <tr>\n",
       "      <th>0</th>\n",
       "      <td>1</td>\n",
       "      <td>Oscar et la dame rose (2009)</td>\n",
       "      <td>drama</td>\n",
       "      <td>Listening in to a conversation between his do...</td>\n",
       "    </tr>\n",
       "    <tr>\n",
       "      <th>1</th>\n",
       "      <td>2</td>\n",
       "      <td>Cupid (1997)</td>\n",
       "      <td>thriller</td>\n",
       "      <td>A brother and sister with a past incestuous r...</td>\n",
       "    </tr>\n",
       "    <tr>\n",
       "      <th>2</th>\n",
       "      <td>3</td>\n",
       "      <td>Young, Wild and Wonderful (1980)</td>\n",
       "      <td>adult</td>\n",
       "      <td>As the bus empties the students for their fie...</td>\n",
       "    </tr>\n",
       "    <tr>\n",
       "      <th>3</th>\n",
       "      <td>4</td>\n",
       "      <td>The Secret Sin (1915)</td>\n",
       "      <td>drama</td>\n",
       "      <td>To help their unemployed father make ends mee...</td>\n",
       "    </tr>\n",
       "    <tr>\n",
       "      <th>4</th>\n",
       "      <td>5</td>\n",
       "      <td>The Unrecovered (2007)</td>\n",
       "      <td>drama</td>\n",
       "      <td>The film's title refers not only to the un-re...</td>\n",
       "    </tr>\n",
       "  </tbody>\n",
       "</table>\n",
       "</div>"
      ]
     },
     "execution_count": 84,
     "metadata": {},
     "output_type": "execute_result"
    }
   ],
   "execution_count": 84
  },
  {
   "metadata": {
    "ExecuteTime": {
     "end_time": "2024-08-22T08:55:38.661042Z",
     "start_time": "2024-08-22T08:55:38.656042Z"
    }
   },
   "cell_type": "code",
   "source": "x_test.head()",
   "id": "12402ccac60ce0cf",
   "outputs": [
    {
     "data": {
      "text/plain": [
       "   ID                          TITLE  \\\n",
       "0   1          Edgar's Lunch (1998)    \n",
       "1   2      La guerra de papá (1977)    \n",
       "2   3   Off the Beaten Track (2010)    \n",
       "3   4        Meu Amigo Hindu (2015)    \n",
       "4   5             Er nu zhai (1955)    \n",
       "\n",
       "                                         DESCRIPTION  \n",
       "0   L.R. Brane loves his life - his car, his apar...  \n",
       "1   Spain, March 1964: Quico is a very naughty ch...  \n",
       "2   One year in the life of Albin and his family ...  \n",
       "3   His father has died, he hasn't spoken with hi...  \n",
       "4   Before he was known internationally as a mart...  "
      ],
      "text/html": [
       "<div>\n",
       "<style scoped>\n",
       "    .dataframe tbody tr th:only-of-type {\n",
       "        vertical-align: middle;\n",
       "    }\n",
       "\n",
       "    .dataframe tbody tr th {\n",
       "        vertical-align: top;\n",
       "    }\n",
       "\n",
       "    .dataframe thead th {\n",
       "        text-align: right;\n",
       "    }\n",
       "</style>\n",
       "<table border=\"1\" class=\"dataframe\">\n",
       "  <thead>\n",
       "    <tr style=\"text-align: right;\">\n",
       "      <th></th>\n",
       "      <th>ID</th>\n",
       "      <th>TITLE</th>\n",
       "      <th>DESCRIPTION</th>\n",
       "    </tr>\n",
       "  </thead>\n",
       "  <tbody>\n",
       "    <tr>\n",
       "      <th>0</th>\n",
       "      <td>1</td>\n",
       "      <td>Edgar's Lunch (1998)</td>\n",
       "      <td>L.R. Brane loves his life - his car, his apar...</td>\n",
       "    </tr>\n",
       "    <tr>\n",
       "      <th>1</th>\n",
       "      <td>2</td>\n",
       "      <td>La guerra de papá (1977)</td>\n",
       "      <td>Spain, March 1964: Quico is a very naughty ch...</td>\n",
       "    </tr>\n",
       "    <tr>\n",
       "      <th>2</th>\n",
       "      <td>3</td>\n",
       "      <td>Off the Beaten Track (2010)</td>\n",
       "      <td>One year in the life of Albin and his family ...</td>\n",
       "    </tr>\n",
       "    <tr>\n",
       "      <th>3</th>\n",
       "      <td>4</td>\n",
       "      <td>Meu Amigo Hindu (2015)</td>\n",
       "      <td>His father has died, he hasn't spoken with hi...</td>\n",
       "    </tr>\n",
       "    <tr>\n",
       "      <th>4</th>\n",
       "      <td>5</td>\n",
       "      <td>Er nu zhai (1955)</td>\n",
       "      <td>Before he was known internationally as a mart...</td>\n",
       "    </tr>\n",
       "  </tbody>\n",
       "</table>\n",
       "</div>"
      ]
     },
     "execution_count": 85,
     "metadata": {},
     "output_type": "execute_result"
    }
   ],
   "execution_count": 85
  },
  {
   "metadata": {
    "ExecuteTime": {
     "end_time": "2024-08-22T08:55:38.668769Z",
     "start_time": "2024-08-22T08:55:38.661992Z"
    }
   },
   "cell_type": "code",
   "source": "df_test_sol",
   "id": "6605444a5d483079",
   "outputs": [
    {
     "data": {
      "text/plain": [
       "          ID                             TITLE          GENRE  \\\n",
       "0          1             Edgar's Lunch (1998)       thriller    \n",
       "1          2         La guerra de papá (1977)         comedy    \n",
       "2          3      Off the Beaten Track (2010)    documentary    \n",
       "3          4           Meu Amigo Hindu (2015)          drama    \n",
       "4          5                Er nu zhai (1955)          drama    \n",
       "...      ...                               ...            ...   \n",
       "54195  54196   \"Tales of Light & Dark\" (2013)         horror    \n",
       "54196  54197      Der letzte Mohikaner (1965)        western    \n",
       "54197  54198              Oliver Twink (2007)          adult    \n",
       "54198  54199                Slipstream (1973)          drama    \n",
       "54199  54200        Curitiba Zero Grau (2010)          drama    \n",
       "\n",
       "                                             DESCRIPTION  \n",
       "0       L.R. Brane loves his life - his car, his apar...  \n",
       "1       Spain, March 1964: Quico is a very naughty ch...  \n",
       "2       One year in the life of Albin and his family ...  \n",
       "3       His father has died, he hasn't spoken with hi...  \n",
       "4       Before he was known internationally as a mart...  \n",
       "...                                                  ...  \n",
       "54195   Covering multiple genres, Tales of Light & Da...  \n",
       "54196   As Alice and Cora Munro attempt to find their...  \n",
       "54197   A movie 169 years in the making. Oliver Twist...  \n",
       "54198   Popular, but mysterious rock D.J Mike Mallard...  \n",
       "54199   Curitiba is a city in movement, with rhythms ...  \n",
       "\n",
       "[54200 rows x 4 columns]"
      ],
      "text/html": [
       "<div>\n",
       "<style scoped>\n",
       "    .dataframe tbody tr th:only-of-type {\n",
       "        vertical-align: middle;\n",
       "    }\n",
       "\n",
       "    .dataframe tbody tr th {\n",
       "        vertical-align: top;\n",
       "    }\n",
       "\n",
       "    .dataframe thead th {\n",
       "        text-align: right;\n",
       "    }\n",
       "</style>\n",
       "<table border=\"1\" class=\"dataframe\">\n",
       "  <thead>\n",
       "    <tr style=\"text-align: right;\">\n",
       "      <th></th>\n",
       "      <th>ID</th>\n",
       "      <th>TITLE</th>\n",
       "      <th>GENRE</th>\n",
       "      <th>DESCRIPTION</th>\n",
       "    </tr>\n",
       "  </thead>\n",
       "  <tbody>\n",
       "    <tr>\n",
       "      <th>0</th>\n",
       "      <td>1</td>\n",
       "      <td>Edgar's Lunch (1998)</td>\n",
       "      <td>thriller</td>\n",
       "      <td>L.R. Brane loves his life - his car, his apar...</td>\n",
       "    </tr>\n",
       "    <tr>\n",
       "      <th>1</th>\n",
       "      <td>2</td>\n",
       "      <td>La guerra de papá (1977)</td>\n",
       "      <td>comedy</td>\n",
       "      <td>Spain, March 1964: Quico is a very naughty ch...</td>\n",
       "    </tr>\n",
       "    <tr>\n",
       "      <th>2</th>\n",
       "      <td>3</td>\n",
       "      <td>Off the Beaten Track (2010)</td>\n",
       "      <td>documentary</td>\n",
       "      <td>One year in the life of Albin and his family ...</td>\n",
       "    </tr>\n",
       "    <tr>\n",
       "      <th>3</th>\n",
       "      <td>4</td>\n",
       "      <td>Meu Amigo Hindu (2015)</td>\n",
       "      <td>drama</td>\n",
       "      <td>His father has died, he hasn't spoken with hi...</td>\n",
       "    </tr>\n",
       "    <tr>\n",
       "      <th>4</th>\n",
       "      <td>5</td>\n",
       "      <td>Er nu zhai (1955)</td>\n",
       "      <td>drama</td>\n",
       "      <td>Before he was known internationally as a mart...</td>\n",
       "    </tr>\n",
       "    <tr>\n",
       "      <th>...</th>\n",
       "      <td>...</td>\n",
       "      <td>...</td>\n",
       "      <td>...</td>\n",
       "      <td>...</td>\n",
       "    </tr>\n",
       "    <tr>\n",
       "      <th>54195</th>\n",
       "      <td>54196</td>\n",
       "      <td>\"Tales of Light &amp; Dark\" (2013)</td>\n",
       "      <td>horror</td>\n",
       "      <td>Covering multiple genres, Tales of Light &amp; Da...</td>\n",
       "    </tr>\n",
       "    <tr>\n",
       "      <th>54196</th>\n",
       "      <td>54197</td>\n",
       "      <td>Der letzte Mohikaner (1965)</td>\n",
       "      <td>western</td>\n",
       "      <td>As Alice and Cora Munro attempt to find their...</td>\n",
       "    </tr>\n",
       "    <tr>\n",
       "      <th>54197</th>\n",
       "      <td>54198</td>\n",
       "      <td>Oliver Twink (2007)</td>\n",
       "      <td>adult</td>\n",
       "      <td>A movie 169 years in the making. Oliver Twist...</td>\n",
       "    </tr>\n",
       "    <tr>\n",
       "      <th>54198</th>\n",
       "      <td>54199</td>\n",
       "      <td>Slipstream (1973)</td>\n",
       "      <td>drama</td>\n",
       "      <td>Popular, but mysterious rock D.J Mike Mallard...</td>\n",
       "    </tr>\n",
       "    <tr>\n",
       "      <th>54199</th>\n",
       "      <td>54200</td>\n",
       "      <td>Curitiba Zero Grau (2010)</td>\n",
       "      <td>drama</td>\n",
       "      <td>Curitiba is a city in movement, with rhythms ...</td>\n",
       "    </tr>\n",
       "  </tbody>\n",
       "</table>\n",
       "<p>54200 rows × 4 columns</p>\n",
       "</div>"
      ]
     },
     "execution_count": 86,
     "metadata": {},
     "output_type": "execute_result"
    }
   ],
   "execution_count": 86
  },
  {
   "metadata": {
    "ExecuteTime": {
     "end_time": "2024-08-22T08:55:38.752415Z",
     "start_time": "2024-08-22T08:55:38.671305Z"
    }
   },
   "cell_type": "code",
   "source": "df_train.info()",
   "id": "2f328982b41e8962",
   "outputs": [
    {
     "name": "stdout",
     "output_type": "stream",
     "text": [
      "<class 'pandas.core.frame.DataFrame'>\n",
      "RangeIndex: 54214 entries, 0 to 54213\n",
      "Data columns (total 4 columns):\n",
      " #   Column       Non-Null Count  Dtype \n",
      "---  ------       --------------  ----- \n",
      " 0   ID           54214 non-null  int64 \n",
      " 1   TITLE        54214 non-null  object\n",
      " 2   GENRE        54214 non-null  object\n",
      " 3   DESCRIPTION  54214 non-null  object\n",
      "dtypes: int64(1), object(3)\n",
      "memory usage: 1.7+ MB\n"
     ]
    }
   ],
   "execution_count": 87
  },
  {
   "metadata": {
    "ExecuteTime": {
     "end_time": "2024-08-22T08:55:38.784515Z",
     "start_time": "2024-08-22T08:55:38.754755Z"
    }
   },
   "cell_type": "code",
   "source": "df_test_sol.info()",
   "id": "98d6b1255fde87ac",
   "outputs": [
    {
     "name": "stdout",
     "output_type": "stream",
     "text": [
      "<class 'pandas.core.frame.DataFrame'>\n",
      "RangeIndex: 54200 entries, 0 to 54199\n",
      "Data columns (total 4 columns):\n",
      " #   Column       Non-Null Count  Dtype \n",
      "---  ------       --------------  ----- \n",
      " 0   ID           54200 non-null  int64 \n",
      " 1   TITLE        54200 non-null  object\n",
      " 2   GENRE        54200 non-null  object\n",
      " 3   DESCRIPTION  54200 non-null  object\n",
      "dtypes: int64(1), object(3)\n",
      "memory usage: 1.7+ MB\n"
     ]
    }
   ],
   "execution_count": 88
  },
  {
   "metadata": {
    "ExecuteTime": {
     "end_time": "2024-08-22T08:55:39.339891Z",
     "start_time": "2024-08-22T08:55:38.786124Z"
    }
   },
   "cell_type": "code",
   "source": [
    "import matplotlib.pyplot as plt\n",
    "genre_counts = df_train['GENRE'].value_counts()\n",
    "\n",
    "plt.figure(figsize=(20,8))\n",
    "plt.bar(genre_counts.index, genre_counts.values,color=['red', 'blue', 'purple', 'green', 'lavender', 'orange', 'yellow', 'pink', 'brown', 'black'])\n",
    "plt.title('Number of Movies per Genre')\n",
    "plt.xlabel('Genre')\n",
    "plt.ylabel('Number of Movies')\n",
    "plt.xticks(rotation=45)\n",
    "plt.tight_layout()\n",
    "plt.grid()\n",
    "plt.show()\n",
    "\n",
    "most_watch_genre = genre_counts.idxmax()\n",
    "print('Most watched genre is:', most_watch_genre)"
   ],
   "id": "57e7815373c7481b",
   "outputs": [
    {
     "data": {
      "text/plain": [
       "<Figure size 2000x800 with 1 Axes>"
      ],
      "image/png": "[encoded data removed]"
     },
     "metadata": {},
     "output_type": "display_data"
    },
    {
     "name": "stdout",
     "output_type": "stream",
     "text": [
      "Most watched genre is:  drama \n"
     ]
    }
   ],
   "execution_count": 89
  },
  {
   "metadata": {
    "ExecuteTime": {
     "end_time": "2024-08-22T08:55:39.392018Z",
     "start_time": "2024-08-22T08:55:39.343389Z"
    }
   },
   "cell_type": "code",
   "source": [
    "df_train = df_train.drop(columns=['ID'],axis=1)\n",
    "x_test = x_test.drop(columns=['ID'],axis=1)"
   ],
   "id": "cd2fd87e1808532a",
   "outputs": [],
   "execution_count": 90
  },
  {
   "metadata": {
    "ExecuteTime": {
     "end_time": "2024-08-22T08:55:39.428207Z",
     "start_time": "2024-08-22T08:55:39.392744Z"
    }
   },
   "cell_type": "code",
   "source": [
    "from sklearn.preprocessing import LabelEncoder\n",
    "le = LabelEncoder()\n",
    "df_train['GENRE'] = le.fit_transform(df_train['GENRE'])\n",
    "df_test_sol['GENRE'] = le.transform(df_test_sol['GENRE'])"
   ],
   "id": "366eaf299d0f6c20",
   "outputs": [],
   "execution_count": 91
  },
  {
   "metadata": {
    "ExecuteTime": {
     "end_time": "2024-08-22T08:55:39.532423Z",
     "start_time": "2024-08-22T08:55:39.429237Z"
    }
   },
   "cell_type": "code",
   "source": [
    "df_train['combined_text'] = df_train['TITLE'] + ' ' + df_train['DESCRIPTION']\n",
    "x_test['combined_text'] = x_test['TITLE'] + ' ' + x_test['DESCRIPTION']"
   ],
   "id": "b3e2f4ca9fd509db",
   "outputs": [],
   "execution_count": 92
  },
  {
   "metadata": {
    "ExecuteTime": {
     "end_time": "2024-08-22T08:55:39.545030Z",
     "start_time": "2024-08-22T08:55:39.533389Z"
    }
   },
   "cell_type": "code",
   "source": [
    "X_train = df_train.drop(['GENRE','DESCRIPTION','TITLE'],axis=1)\n",
    "\n",
    "X_test = x_test.drop(['DESCRIPTION','TITLE'],axis=1)"
   ],
   "id": "338ba07c7ac116ad",
   "outputs": [],
   "execution_count": 93
  },
  {
   "metadata": {
    "ExecuteTime": {
     "end_time": "2024-08-22T08:55:39.548654Z",
     "start_time": "2024-08-22T08:55:39.546183Z"
    }
   },
   "cell_type": "code",
   "source": [
    "y_train = df_train['GENRE']\n",
    "y_test = df_test_sol['GENRE']"
   ],
   "id": "2cce369a36f94524",
   "outputs": [],
   "execution_count": 94
  },
  {
   "metadata": {
    "ExecuteTime": {
     "end_time": "2024-08-22T08:55:48.478Z",
     "start_time": "2024-08-22T08:55:39.549483Z"
    }
   },
   "cell_type": "code",
   "source": [
    "from sklearn.feature_extraction.text import TfidfVectorizer\n",
    "\n",
    "tfidf_vectorizer = TfidfVectorizer(stop_words='english')\n",
    "\n",
    "tfidf_vectorizer.fit(X_train['combined_text'])\n",
    "\n",
    "X_train = tfidf_vectorizer.transform(X_train['combined_text'])\n",
    "X_test = tfidf_vectorizer.transform(X_test['combined_text'])"
   ],
   "id": "97b80bf590d1491a",
   "outputs": [],
   "execution_count": 95
  },
  {
   "metadata": {
    "ExecuteTime": {
     "end_time": "2024-08-22T08:55:48.517941Z",
     "start_time": "2024-08-22T08:55:48.480088Z"
    }
   },
   "cell_type": "code",
   "source": [
    "from sklearn.model_selection import train_test_split\n",
    "\n",
    "x_train,x_val, y_train, y_val = train_test_split(X_train, y_train, test_size=0.1, random_state=42)"
   ],
   "id": "23fe53651c81d244",
   "outputs": [],
   "execution_count": 96
  },
  {
   "metadata": {
    "ExecuteTime": {
     "end_time": "2024-08-22T08:55:48.522584Z",
     "start_time": "2024-08-22T08:55:48.518884Z"
    }
   },
   "cell_type": "code",
   "source": [
    "from sklearn.metrics import classification_report \n",
    "from sklearn.linear_model import LogisticRegression"
   ],
   "id": "c1f2a9c7b7a0279a",
   "outputs": [],
   "execution_count": 97
  },
  {
   "metadata": {
    "ExecuteTime": {
     "end_time": "2024-08-22T08:57:09.952870Z",
     "start_time": "2024-08-22T08:55:48.523429Z"
    }
   },
   "cell_type": "code",
   "source": [
    "log_model = LogisticRegression(C = 1)\n",
    "log_model.fit(x_train, y_train)"
   ],
   "id": "d419500ddf01ba5f",
   "outputs": [
    {
     "name": "stderr",
     "output_type": "stream",
     "text": [
      "/Users/praveenchalla/anaconda3/lib/python3.11/site-packages/sklearn/linear_model/_logistic.py:458: ConvergenceWarning: lbfgs failed to converge (status=1):\n",
      "STOP: TOTAL NO. of ITERATIONS REACHED LIMIT.\n",
      "\n",
      "Increase the number of iterations (max_iter) or scale the data as shown in:\n",
      "    https://scikit-learn.org/stable/modules/preprocessing.html\n",
      "Please also refer to the documentation for alternative solver options:\n",
      "    https://scikit-learn.org/stable/modules/linear_model.html#logistic-regression\n",
      "  n_iter_i = _check_optimize_result(\n"
     ]
    },
    {
     "data": {
      "text/plain": [
       "LogisticRegression(C=1)"
      ],
      "text/html": [
       "<style>#sk-container-id-5 {color: black;background-color: white;}#sk-container-id-5 pre{padding: 0;}#sk-container-id-5 div.sk-toggleable {background-color: white;}#sk-container-id-5 label.sk-toggleable__label {cursor: pointer;display: block;width: 100%;margin-bottom: 0;padding: 0.3em;box-sizing: border-box;text-align: center;}#sk-container-id-5 label.sk-toggleable__label-arrow:before {content: \"▸\";float: left;margin-right: 0.25em;color: #696969;}#sk-container-id-5 label.sk-toggleable__label-arrow:hover:before {color: black;}#sk-container-id-5 div.sk-estimator:hover label.sk-toggleable__label-arrow:before {color: black;}#sk-container-id-5 div.sk-toggleable__content {max-height: 0;max-width: 0;overflow: hidden;text-align: left;background-color: #f0f8ff;}#sk-container-id-5 div.sk-toggleable__content pre {margin: 0.2em;color: black;border-radius: 0.25em;background-color: #f0f8ff;}#sk-container-id-5 input.sk-toggleable__control:checked~div.sk-toggleable__content {max-height: 200px;max-width: 100%;overflow: auto;}#sk-container-id-5 input.sk-toggleable__control:checked~label.sk-toggleable__label-arrow:before {content: \"▾\";}#sk-container-id-5 div.sk-estimator input.sk-toggleable__control:checked~label.sk-toggleable__label {background-color: #d4ebff;}#sk-container-id-5 div.sk-label input.sk-toggleable__control:checked~label.sk-toggleable__label {background-color: #d4ebff;}#sk-container-id-5 input.sk-hidden--visually {border: 0;clip: rect(1px 1px 1px 1px);clip: rect(1px, 1px, 1px, 1px);height: 1px;margin: -1px;overflow: hidden;padding: 0;position: absolute;width: 1px;}#sk-container-id-5 div.sk-estimator {font-family: monospace;background-color: #f0f8ff;border: 1px dotted black;border-radius: 0.25em;box-sizing: border-box;margin-bottom: 0.5em;}#sk-container-id-5 div.sk-estimator:hover {background-color: #d4ebff;}#sk-container-id-5 div.sk-parallel-item::after {content: \"\";width: 100%;border-bottom: 1px solid gray;flex-grow: 1;}#sk-container-id-5 div.sk-label:hover label.sk-toggleable__label {background-color: #d4ebff;}#sk-container-id-5 div.sk-serial::before {content: \"\";position: absolute;border-left: 1px solid gray;box-sizing: border-box;top: 0;bottom: 0;left: 50%;z-index: 0;}#sk-container-id-5 div.sk-serial {display: flex;flex-direction: column;align-items: center;background-color: white;padding-right: 0.2em;padding-left: 0.2em;position: relative;}#sk-container-id-5 div.sk-item {position: relative;z-index: 1;}#sk-container-id-5 div.sk-parallel {display: flex;align-items: stretch;justify-content: center;background-color: white;position: relative;}#sk-container-id-5 div.sk-item::before, #sk-container-id-5 div.sk-parallel-item::before {content: \"\";position: absolute;border-left: 1px solid gray;box-sizing: border-box;top: 0;bottom: 0;left: 50%;z-index: -1;}#sk-container-id-5 div.sk-parallel-item {display: flex;flex-direction: column;z-index: 1;position: relative;background-color: white;}#sk-container-id-5 div.sk-parallel-item:first-child::after {align-self: flex-end;width: 50%;}#sk-container-id-5 div.sk-parallel-item:last-child::after {align-self: flex-start;width: 50%;}#sk-container-id-5 div.sk-parallel-item:only-child::after {width: 0;}#sk-container-id-5 div.sk-dashed-wrapped {border: 1px dashed gray;margin: 0 0.4em 0.5em 0.4em;box-sizing: border-box;padding-bottom: 0.4em;background-color: white;}#sk-container-id-5 div.sk-label label {font-family: monospace;font-weight: bold;display: inline-block;line-height: 1.2em;}#sk-container-id-5 div.sk-label-container {text-align: center;}#sk-container-id-5 div.sk-container {/* jupyter's `normalize.less` sets `[hidden] { display: none; }` but bootstrap.min.css set `[hidden] { display: none !important; }` so we also need the `!important` here to be able to override the default hidden behavior on the sphinx rendered scikit-learn.org. See: https://github.com/scikit-learn/scikit-learn/issues/21755 */display: inline-block !important;position: relative;}#sk-container-id-5 div.sk-text-repr-fallback {display: none;}</style><div id=\"sk-container-id-5\" class=\"sk-top-container\"><div class=\"sk-text-repr-fallback\"><pre>LogisticRegression(C=1)</pre><b>In a Jupyter environment, please rerun this cell to show the HTML representation or trust the notebook. <br />On GitHub, the HTML representation is unable to render, please try loading this page with nbviewer.org.</b></div><div class=\"sk-container\" hidden><div class=\"sk-item\"><div class=\"sk-estimator sk-toggleable\"><input class=\"sk-toggleable__control sk-hidden--visually\" id=\"sk-estimator-id-5\" type=\"checkbox\" checked><label for=\"sk-estimator-id-5\" class=\"sk-toggleable__label sk-toggleable__label-arrow\">LogisticRegression</label><div class=\"sk-toggleable__content\"><pre>LogisticRegression(C=1)</pre></div></div></div></div></div>"
      ]
     },
     "execution_count": 98,
     "metadata": {},
     "output_type": "execute_result"
    }
   ],
   "execution_count": 98
  },
  {
   "metadata": {
    "ExecuteTime": {
     "end_time": "2024-08-22T08:57:10.155122Z",
     "start_time": "2024-08-22T08:57:09.954707Z"
    }
   },
   "cell_type": "code",
   "source": [
    "y_train_pred1 = log_model.predict(x_train)\n",
    "print(classification_report(y_train, y_train_pred1))"
   ],
   "id": "53c169ceb72627eb",
   "outputs": [
    {
     "name": "stderr",
     "output_type": "stream",
     "text": [
      "/Users/praveenchalla/anaconda3/lib/python3.11/site-packages/sklearn/metrics/_classification.py:1344: UndefinedMetricWarning: Precision and F-score are ill-defined and being set to 0.0 in labels with no predicted samples. Use `zero_division` parameter to control this behavior.\n",
      "  _warn_prf(average, modifier, msg_start, len(result))\n"
     ]
    },
    {
     "name": "stdout",
     "output_type": "stream",
     "text": [
      "              precision    recall  f1-score   support\n",
      "\n",
      "           0       0.79      0.43      0.56      1199\n",
      "           1       0.91      0.41      0.57       531\n",
      "           2       0.88      0.26      0.40       702\n",
      "           3       0.94      0.11      0.20       437\n",
      "           4       0.00      0.00      0.00       238\n",
      "           5       0.73      0.81      0.77      6694\n",
      "           6       0.77      0.06      0.11       449\n",
      "           7       0.74      0.95      0.83     11773\n",
      "           8       0.66      0.92      0.77     12262\n",
      "           9       0.80      0.16      0.27       720\n",
      "          10       0.88      0.02      0.05       286\n",
      "          11       0.96      0.51      0.66       176\n",
      "          12       0.00      0.00      0.00       219\n",
      "          13       0.83      0.76      0.79      1996\n",
      "          14       0.88      0.52      0.65       651\n",
      "          15       0.91      0.04      0.07       256\n",
      "          16       1.00      0.02      0.04       291\n",
      "          17       0.82      0.09      0.16       163\n",
      "          18       0.80      0.29      0.42       763\n",
      "          19       0.77      0.06      0.11       601\n",
      "          20       0.82      0.37      0.51       575\n",
      "          21       0.78      0.55      0.64      4579\n",
      "          22       0.92      0.37      0.52       385\n",
      "          23       0.87      0.21      0.34       355\n",
      "          24       0.77      0.29      0.42      1432\n",
      "          25       0.00      0.00      0.00       122\n",
      "          26       0.97      0.82      0.89       937\n",
      "\n",
      "    accuracy                           0.73     48792\n",
      "   macro avg       0.75      0.33      0.40     48792\n",
      "weighted avg       0.74      0.73      0.69     48792\n",
      "\n"
     ]
    },
    {
     "name": "stderr",
     "output_type": "stream",
     "text": [
      "/Users/praveenchalla/anaconda3/lib/python3.11/site-packages/sklearn/metrics/_classification.py:1344: UndefinedMetricWarning: Precision and F-score are ill-defined and being set to 0.0 in labels with no predicted samples. Use `zero_division` parameter to control this behavior.\n",
      "  _warn_prf(average, modifier, msg_start, len(result))\n",
      "/Users/praveenchalla/anaconda3/lib/python3.11/site-packages/sklearn/metrics/_classification.py:1344: UndefinedMetricWarning: Precision and F-score are ill-defined and being set to 0.0 in labels with no predicted samples. Use `zero_division` parameter to control this behavior.\n",
      "  _warn_prf(average, modifier, msg_start, len(result))\n"
     ]
    }
   ],
   "execution_count": 99
  },
  {
   "metadata": {
    "ExecuteTime": {
     "end_time": "2024-08-22T08:57:10.190478Z",
     "start_time": "2024-08-22T08:57:10.156557Z"
    }
   },
   "cell_type": "code",
   "source": [
    "y_val_pred1 = log_model.predict(x_val)\n",
    "print(classification_report(y_val, y_val_pred1))"
   ],
   "id": "935c258bc94b7ccc",
   "outputs": [
    {
     "name": "stdout",
     "output_type": "stream",
     "text": [
      "              precision    recall  f1-score   support\n",
      "\n",
      "           0       0.54      0.26      0.35       116\n",
      "           1       0.78      0.31      0.44        59\n",
      "           2       0.23      0.04      0.07        73\n",
      "           3       1.00      0.02      0.03        61\n",
      "           4       0.00      0.00      0.00        27\n",
      "           5       0.55      0.58      0.56       753\n",
      "           6       0.00      0.00      0.00        56\n",
      "           7       0.65      0.85      0.74      1323\n",
      "           8       0.52      0.82      0.64      1351\n",
      "           9       0.42      0.08      0.13        64\n",
      "          10       0.00      0.00      0.00        37\n",
      "          11       1.00      0.28      0.43        18\n",
      "          12       0.00      0.00      0.00        24\n",
      "          13       0.74      0.61      0.67       208\n",
      "          14       0.69      0.36      0.48        80\n",
      "          15       0.00      0.00      0.00        21\n",
      "          16       0.00      0.00      0.00        28\n",
      "          17       0.00      0.00      0.00        18\n",
      "          18       0.56      0.12      0.20       121\n",
      "          19       0.00      0.00      0.00        71\n",
      "          20       0.62      0.14      0.23        72\n",
      "          21       0.56      0.32      0.41       494\n",
      "          22       0.85      0.23      0.37        47\n",
      "          23       0.33      0.03      0.05        36\n",
      "          24       0.52      0.14      0.23       159\n",
      "          25       0.00      0.00      0.00        10\n",
      "          26       0.97      0.72      0.82        95\n",
      "\n",
      "    accuracy                           0.58      5422\n",
      "   macro avg       0.43      0.22      0.25      5422\n",
      "weighted avg       0.56      0.58      0.54      5422\n",
      "\n"
     ]
    },
    {
     "name": "stderr",
     "output_type": "stream",
     "text": [
      "/Users/praveenchalla/anaconda3/lib/python3.11/site-packages/sklearn/metrics/_classification.py:1344: UndefinedMetricWarning: Precision and F-score are ill-defined and being set to 0.0 in labels with no predicted samples. Use `zero_division` parameter to control this behavior.\n",
      "  _warn_prf(average, modifier, msg_start, len(result))\n",
      "/Users/praveenchalla/anaconda3/lib/python3.11/site-packages/sklearn/metrics/_classification.py:1344: UndefinedMetricWarning: Precision and F-score are ill-defined and being set to 0.0 in labels with no predicted samples. Use `zero_division` parameter to control this behavior.\n",
      "  _warn_prf(average, modifier, msg_start, len(result))\n",
      "/Users/praveenchalla/anaconda3/lib/python3.11/site-packages/sklearn/metrics/_classification.py:1344: UndefinedMetricWarning: Precision and F-score are ill-defined and being set to 0.0 in labels with no predicted samples. Use `zero_division` parameter to control this behavior.\n",
      "  _warn_prf(average, modifier, msg_start, len(result))\n"
     ]
    }
   ],
   "execution_count": 100
  },
  {
   "metadata": {
    "ExecuteTime": {
     "end_time": "2024-08-22T08:57:10.397255Z",
     "start_time": "2024-08-22T08:57:10.191913Z"
    }
   },
   "cell_type": "code",
   "source": [
    "y_test_pred1 = log_model.predict(X_test)\n",
    "print(classification_report(y_test, y_test_pred1))"
   ],
   "id": "ba3f716a6d043c1f",
   "outputs": [
    {
     "name": "stderr",
     "output_type": "stream",
     "text": [
      "/Users/praveenchalla/anaconda3/lib/python3.11/site-packages/sklearn/metrics/_classification.py:1344: UndefinedMetricWarning: Precision and F-score are ill-defined and being set to 0.0 in labels with no predicted samples. Use `zero_division` parameter to control this behavior.\n",
      "  _warn_prf(average, modifier, msg_start, len(result))\n",
      "/Users/praveenchalla/anaconda3/lib/python3.11/site-packages/sklearn/metrics/_classification.py:1344: UndefinedMetricWarning: Precision and F-score are ill-defined and being set to 0.0 in labels with no predicted samples. Use `zero_division` parameter to control this behavior.\n",
      "  _warn_prf(average, modifier, msg_start, len(result))\n"
     ]
    },
    {
     "name": "stdout",
     "output_type": "stream",
     "text": [
      "              precision    recall  f1-score   support\n",
      "\n",
      "           0       0.55      0.27      0.36      1314\n",
      "           1       0.61      0.19      0.29       590\n",
      "           2       0.68      0.16      0.26       775\n",
      "           3       0.80      0.02      0.03       498\n",
      "           4       0.00      0.00      0.00       264\n",
      "           5       0.56      0.58      0.57      7446\n",
      "           6       0.40      0.02      0.04       505\n",
      "           7       0.65      0.87      0.75     13096\n",
      "           8       0.53      0.81      0.64     13612\n",
      "           9       0.50      0.08      0.13       783\n",
      "          10       1.00      0.01      0.01       322\n",
      "          11       0.91      0.45      0.60       193\n",
      "          12       0.00      0.00      0.00       243\n",
      "          13       0.67      0.56      0.61      2204\n",
      "          14       0.72      0.38      0.50       731\n",
      "          15       0.67      0.01      0.01       276\n",
      "          16       1.00      0.00      0.01       318\n",
      "          17       0.73      0.06      0.11       181\n",
      "          18       0.50      0.12      0.19       883\n",
      "          19       0.30      0.01      0.02       672\n",
      "          20       0.62      0.19      0.29       646\n",
      "          21       0.54      0.32      0.40      5072\n",
      "          22       0.79      0.20      0.32       431\n",
      "          23       0.60      0.09      0.16       391\n",
      "          24       0.41      0.11      0.18      1590\n",
      "          25       0.00      0.00      0.00       132\n",
      "          26       0.94      0.71      0.81      1032\n",
      "\n",
      "    accuracy                           0.59     54200\n",
      "   macro avg       0.58      0.23      0.27     54200\n",
      "weighted avg       0.58      0.59      0.54     54200\n",
      "\n"
     ]
    },
    {
     "name": "stderr",
     "output_type": "stream",
     "text": [
      "/Users/praveenchalla/anaconda3/lib/python3.11/site-packages/sklearn/metrics/_classification.py:1344: UndefinedMetricWarning: Precision and F-score are ill-defined and being set to 0.0 in labels with no predicted samples. Use `zero_division` parameter to control this behavior.\n",
      "  _warn_prf(average, modifier, msg_start, len(result))\n"
     ]
    }
   ],
   "execution_count": 101
  },
  {
   "metadata": {
    "ExecuteTime": {
     "end_time": "2024-08-22T08:57:27.557191Z",
     "start_time": "2024-08-22T08:57:10.398346Z"
    }
   },
   "cell_type": "code",
   "source": [
    "from sklearn.svm import LinearSVC\n",
    "svc_model = LinearSVC(penalty='l2', C=0.1,dual = False)\n",
    "svc_model.fit(x_train, y_train)"
   ],
   "id": "ce06ba54b204c990",
   "outputs": [
    {
     "data": {
      "text/plain": [
       "LinearSVC(C=0.1, dual=False)"
      ],
      "text/html": [
       "<style>#sk-container-id-6 {color: black;background-color: white;}#sk-container-id-6 pre{padding: 0;}#sk-container-id-6 div.sk-toggleable {background-color: white;}#sk-container-id-6 label.sk-toggleable__label {cursor: pointer;display: block;width: 100%;margin-bottom: 0;padding: 0.3em;box-sizing: border-box;text-align: center;}#sk-container-id-6 label.sk-toggleable__label-arrow:before {content: \"▸\";float: left;margin-right: 0.25em;color: #696969;}#sk-container-id-6 label.sk-toggleable__label-arrow:hover:before {color: black;}#sk-container-id-6 div.sk-estimator:hover label.sk-toggleable__label-arrow:before {color: black;}#sk-container-id-6 div.sk-toggleable__content {max-height: 0;max-width: 0;overflow: hidden;text-align: left;background-color: #f0f8ff;}#sk-container-id-6 div.sk-toggleable__content pre {margin: 0.2em;color: black;border-radius: 0.25em;background-color: #f0f8ff;}#sk-container-id-6 input.sk-toggleable__control:checked~div.sk-toggleable__content {max-height: 200px;max-width: 100%;overflow: auto;}#sk-container-id-6 input.sk-toggleable__control:checked~label.sk-toggleable__label-arrow:before {content: \"▾\";}#sk-container-id-6 div.sk-estimator input.sk-toggleable__control:checked~label.sk-toggleable__label {background-color: #d4ebff;}#sk-container-id-6 div.sk-label input.sk-toggleable__control:checked~label.sk-toggleable__label {background-color: #d4ebff;}#sk-container-id-6 input.sk-hidden--visually {border: 0;clip: rect(1px 1px 1px 1px);clip: rect(1px, 1px, 1px, 1px);height: 1px;margin: -1px;overflow: hidden;padding: 0;position: absolute;width: 1px;}#sk-container-id-6 div.sk-estimator {font-family: monospace;background-color: #f0f8ff;border: 1px dotted black;border-radius: 0.25em;box-sizing: border-box;margin-bottom: 0.5em;}#sk-container-id-6 div.sk-estimator:hover {background-color: #d4ebff;}#sk-container-id-6 div.sk-parallel-item::after {content: \"\";width: 100%;border-bottom: 1px solid gray;flex-grow: 1;}#sk-container-id-6 div.sk-label:hover label.sk-toggleable__label {background-color: #d4ebff;}#sk-container-id-6 div.sk-serial::before {content: \"\";position: absolute;border-left: 1px solid gray;box-sizing: border-box;top: 0;bottom: 0;left: 50%;z-index: 0;}#sk-container-id-6 div.sk-serial {display: flex;flex-direction: column;align-items: center;background-color: white;padding-right: 0.2em;padding-left: 0.2em;position: relative;}#sk-container-id-6 div.sk-item {position: relative;z-index: 1;}#sk-container-id-6 div.sk-parallel {display: flex;align-items: stretch;justify-content: center;background-color: white;position: relative;}#sk-container-id-6 div.sk-item::before, #sk-container-id-6 div.sk-parallel-item::before {content: \"\";position: absolute;border-left: 1px solid gray;box-sizing: border-box;top: 0;bottom: 0;left: 50%;z-index: -1;}#sk-container-id-6 div.sk-parallel-item {display: flex;flex-direction: column;z-index: 1;position: relative;background-color: white;}#sk-container-id-6 div.sk-parallel-item:first-child::after {align-self: flex-end;width: 50%;}#sk-container-id-6 div.sk-parallel-item:last-child::after {align-self: flex-start;width: 50%;}#sk-container-id-6 div.sk-parallel-item:only-child::after {width: 0;}#sk-container-id-6 div.sk-dashed-wrapped {border: 1px dashed gray;margin: 0 0.4em 0.5em 0.4em;box-sizing: border-box;padding-bottom: 0.4em;background-color: white;}#sk-container-id-6 div.sk-label label {font-family: monospace;font-weight: bold;display: inline-block;line-height: 1.2em;}#sk-container-id-6 div.sk-label-container {text-align: center;}#sk-container-id-6 div.sk-container {/* jupyter's `normalize.less` sets `[hidden] { display: none; }` but bootstrap.min.css set `[hidden] { display: none !important; }` so we also need the `!important` here to be able to override the default hidden behavior on the sphinx rendered scikit-learn.org. See: https://github.com/scikit-learn/scikit-learn/issues/21755 */display: inline-block !important;position: relative;}#sk-container-id-6 div.sk-text-repr-fallback {display: none;}</style><div id=\"sk-container-id-6\" class=\"sk-top-container\"><div class=\"sk-text-repr-fallback\"><pre>LinearSVC(C=0.1, dual=False)</pre><b>In a Jupyter environment, please rerun this cell to show the HTML representation or trust the notebook. <br />On GitHub, the HTML representation is unable to render, please try loading this page with nbviewer.org.</b></div><div class=\"sk-container\" hidden><div class=\"sk-item\"><div class=\"sk-estimator sk-toggleable\"><input class=\"sk-toggleable__control sk-hidden--visually\" id=\"sk-estimator-id-6\" type=\"checkbox\" checked><label for=\"sk-estimator-id-6\" class=\"sk-toggleable__label sk-toggleable__label-arrow\">LinearSVC</label><div class=\"sk-toggleable__content\"><pre>LinearSVC(C=0.1, dual=False)</pre></div></div></div></div></div>"
      ]
     },
     "execution_count": 102,
     "metadata": {},
     "output_type": "execute_result"
    }
   ],
   "execution_count": 102
  },
  {
   "metadata": {
    "ExecuteTime": {
     "end_time": "2024-08-22T08:57:27.861099Z",
     "start_time": "2024-08-22T08:57:27.569535Z"
    }
   },
   "cell_type": "code",
   "source": [
    "y_train_pred2 = svc_model.predict(x_train)\n",
    "print(classification_report(y_train, y_train_pred2))\n"
   ],
   "id": "98ec3d0e99f72ec9",
   "outputs": [
    {
     "name": "stdout",
     "output_type": "stream",
     "text": [
      "              precision    recall  f1-score   support\n",
      "\n",
      "           0       0.89      0.51      0.65      1199\n",
      "           1       0.97      0.58      0.73       531\n",
      "           2       0.94      0.38      0.54       702\n",
      "           3       0.98      0.38      0.55       437\n",
      "           4       1.00      0.00      0.01       238\n",
      "           5       0.75      0.78      0.76      6694\n",
      "           6       0.99      0.16      0.27       449\n",
      "           7       0.74      0.95      0.83     11773\n",
      "           8       0.66      0.91      0.77     12262\n",
      "           9       0.94      0.25      0.40       720\n",
      "          10       0.97      0.22      0.36       286\n",
      "          11       0.95      0.80      0.87       176\n",
      "          12       1.00      0.00      0.01       219\n",
      "          13       0.81      0.83      0.82      1996\n",
      "          14       0.91      0.66      0.77       651\n",
      "          15       0.98      0.16      0.28       256\n",
      "          16       1.00      0.15      0.26       291\n",
      "          17       0.92      0.21      0.34       163\n",
      "          18       0.93      0.38      0.54       763\n",
      "          19       1.00      0.04      0.09       601\n",
      "          20       0.88      0.55      0.68       575\n",
      "          21       0.85      0.49      0.62      4579\n",
      "          22       0.91      0.56      0.70       385\n",
      "          23       0.97      0.34      0.51       355\n",
      "          24       0.86      0.31      0.46      1432\n",
      "          25       1.00      0.20      0.34       122\n",
      "          26       0.94      0.92      0.93       937\n",
      "\n",
      "    accuracy                           0.74     48792\n",
      "   macro avg       0.92      0.44      0.52     48792\n",
      "weighted avg       0.78      0.74      0.71     48792\n",
      "\n"
     ]
    }
   ],
   "execution_count": 103
  },
  {
   "metadata": {
    "ExecuteTime": {
     "end_time": "2024-08-22T08:57:27.887725Z",
     "start_time": "2024-08-22T08:57:27.862363Z"
    }
   },
   "cell_type": "code",
   "source": [
    "y_val_pred2 = svc_model.predict(x_val)\n",
    "print(classification_report(y_val, y_val_pred2))"
   ],
   "id": "284953d65deec5cf",
   "outputs": [
    {
     "name": "stdout",
     "output_type": "stream",
     "text": [
      "              precision    recall  f1-score   support\n",
      "\n",
      "           0       0.59      0.26      0.36       116\n",
      "           1       0.83      0.34      0.48        59\n",
      "           2       0.47      0.11      0.18        73\n",
      "           3       0.80      0.07      0.12        61\n",
      "           4       0.00      0.00      0.00        27\n",
      "           5       0.54      0.57      0.55       753\n",
      "           6       0.00      0.00      0.00        56\n",
      "           7       0.64      0.87      0.74      1323\n",
      "           8       0.53      0.81      0.64      1351\n",
      "           9       0.60      0.09      0.16        64\n",
      "          10       0.50      0.03      0.05        37\n",
      "          11       0.86      0.67      0.75        18\n",
      "          12       0.00      0.00      0.00        24\n",
      "          13       0.67      0.64      0.66       208\n",
      "          14       0.69      0.42      0.53        80\n",
      "          15       0.00      0.00      0.00        21\n",
      "          16       0.00      0.00      0.00        28\n",
      "          17       0.00      0.00      0.00        18\n",
      "          18       0.53      0.07      0.13       121\n",
      "          19       0.00      0.00      0.00        71\n",
      "          20       0.62      0.18      0.28        72\n",
      "          21       0.57      0.25      0.35       494\n",
      "          22       0.79      0.32      0.45        47\n",
      "          23       0.33      0.03      0.05        36\n",
      "          24       0.49      0.11      0.18       159\n",
      "          25       0.00      0.00      0.00        10\n",
      "          26       0.88      0.80      0.84        95\n",
      "\n",
      "    accuracy                           0.59      5422\n",
      "   macro avg       0.44      0.25      0.28      5422\n",
      "weighted avg       0.56      0.59      0.53      5422\n",
      "\n"
     ]
    },
    {
     "name": "stderr",
     "output_type": "stream",
     "text": [
      "/Users/praveenchalla/anaconda3/lib/python3.11/site-packages/sklearn/metrics/_classification.py:1344: UndefinedMetricWarning: Precision and F-score are ill-defined and being set to 0.0 in labels with no predicted samples. Use `zero_division` parameter to control this behavior.\n",
      "  _warn_prf(average, modifier, msg_start, len(result))\n",
      "/Users/praveenchalla/anaconda3/lib/python3.11/site-packages/sklearn/metrics/_classification.py:1344: UndefinedMetricWarning: Precision and F-score are ill-defined and being set to 0.0 in labels with no predicted samples. Use `zero_division` parameter to control this behavior.\n",
      "  _warn_prf(average, modifier, msg_start, len(result))\n",
      "/Users/praveenchalla/anaconda3/lib/python3.11/site-packages/sklearn/metrics/_classification.py:1344: UndefinedMetricWarning: Precision and F-score are ill-defined and being set to 0.0 in labels with no predicted samples. Use `zero_division` parameter to control this behavior.\n",
      "  _warn_prf(average, modifier, msg_start, len(result))\n"
     ]
    }
   ],
   "execution_count": 104
  },
  {
   "metadata": {
    "ExecuteTime": {
     "end_time": "2024-08-22T08:57:28.098479Z",
     "start_time": "2024-08-22T08:57:27.888680Z"
    }
   },
   "cell_type": "code",
   "source": [
    "y_test_pred2 = svc_model.predict(X_test)\n",
    "print(classification_report(y_test, y_test_pred2))"
   ],
   "id": "7e61276158244b5f",
   "outputs": [
    {
     "name": "stderr",
     "output_type": "stream",
     "text": [
      "/Users/praveenchalla/anaconda3/lib/python3.11/site-packages/sklearn/metrics/_classification.py:1344: UndefinedMetricWarning: Precision and F-score are ill-defined and being set to 0.0 in labels with no predicted samples. Use `zero_division` parameter to control this behavior.\n",
      "  _warn_prf(average, modifier, msg_start, len(result))\n",
      "/Users/praveenchalla/anaconda3/lib/python3.11/site-packages/sklearn/metrics/_classification.py:1344: UndefinedMetricWarning: Precision and F-score are ill-defined and being set to 0.0 in labels with no predicted samples. Use `zero_division` parameter to control this behavior.\n",
      "  _warn_prf(average, modifier, msg_start, len(result))\n"
     ]
    },
    {
     "name": "stdout",
     "output_type": "stream",
     "text": [
      "              precision    recall  f1-score   support\n",
      "\n",
      "           0       0.55      0.25      0.34      1314\n",
      "           1       0.69      0.23      0.35       590\n",
      "           2       0.71      0.18      0.29       775\n",
      "           3       0.62      0.03      0.06       498\n",
      "           4       0.00      0.00      0.00       264\n",
      "           5       0.56      0.56      0.56      7446\n",
      "           6       0.55      0.01      0.02       505\n",
      "           7       0.64      0.89      0.74     13096\n",
      "           8       0.54      0.80      0.64     13612\n",
      "           9       0.55      0.07      0.12       783\n",
      "          10       0.58      0.02      0.04       322\n",
      "          11       0.85      0.59      0.69       193\n",
      "          12       0.00      0.00      0.00       243\n",
      "          13       0.63      0.62      0.63      2204\n",
      "          14       0.67      0.40      0.50       731\n",
      "          15       0.50      0.01      0.01       276\n",
      "          16       0.00      0.00      0.00       318\n",
      "          17       0.80      0.07      0.12       181\n",
      "          18       0.61      0.11      0.19       883\n",
      "          19       0.00      0.00      0.00       672\n",
      "          20       0.61      0.25      0.35       646\n",
      "          21       0.57      0.27      0.37      5072\n",
      "          22       0.77      0.25      0.38       431\n",
      "          23       0.66      0.12      0.20       391\n",
      "          24       0.38      0.08      0.13      1590\n",
      "          25       1.00      0.01      0.02       132\n",
      "          26       0.87      0.80      0.83      1032\n",
      "\n",
      "    accuracy                           0.59     54200\n",
      "   macro avg       0.55      0.24      0.28     54200\n",
      "weighted avg       0.57      0.59      0.54     54200\n",
      "\n"
     ]
    },
    {
     "name": "stderr",
     "output_type": "stream",
     "text": [
      "/Users/praveenchalla/anaconda3/lib/python3.11/site-packages/sklearn/metrics/_classification.py:1344: UndefinedMetricWarning: Precision and F-score are ill-defined and being set to 0.0 in labels with no predicted samples. Use `zero_division` parameter to control this behavior.\n",
      "  _warn_prf(average, modifier, msg_start, len(result))\n"
     ]
    }
   ],
   "execution_count": 105
  },
  {
   "metadata": {
    "ExecuteTime": {
     "end_time": "2024-08-22T08:57:28.104225Z",
     "start_time": "2024-08-22T08:57:28.099911Z"
    }
   },
   "cell_type": "code",
   "source": [
    "import pandas as pd\n",
    "from sklearn.feature_extraction.text import TfidfVectorizer\n",
    "\n",
    "def predict_genre(title,description,model,vectorizer,label_encoder):\n",
    "    \n",
    "    data = pd.DataFrame({'TITLE':[title],'DESCRIPTION':[description]})\n",
    "    data['combined_text'] = data['TITLE'] + ' ' + data['DESCRIPTION']\n",
    "    X_new = vectorizer.transform(data['combined_text'])\n",
    "    y_pred = model.predict(X_new)\n",
    "    predict_genre = label_encoder.inverse_transform(y_pred)[0]\n",
    "    return predict_genre"
   ],
   "id": "851690a99ca16a9b",
   "outputs": [],
   "execution_count": 106
  },
  {
   "metadata": {
    "ExecuteTime": {
     "end_time": "2024-08-22T09:03:38.299856Z",
     "start_time": "2024-08-22T09:03:38.256775Z"
    }
   },
   "cell_type": "code",
   "source": [
    "\n",
    "predict_genre(\"Young, Wild and Wonderful (1980) \",\" As the bus empties the students for their field trip to the Museum of Natural History, little does the tour guide suspect that the students are there for more than just another tour. First, during the lecture films, the coeds drift into dreams of the most erotic fantasies one can imagine. After the films, they release the emotion of the fantasies in the most erotic and uncommon ways. One slips off to the curator's office for a little acquisition.  Another finds the anthropologist to see what bones can be identified. Even the head teacher isn't immune. Soon the tour is over, but as the bus departs, everyone admits it was quite an education.\",svc_model,tfidf_vectorizer,label_encoder=le)"
   ],
   "id": "a80867863d81618b",
   "outputs": [
    {
     "data": {
      "text/plain": [
       "' adult '"
      ]
     },
     "execution_count": 113,
     "metadata": {},
     "output_type": "execute_result"
    }
   ],
   "execution_count": 113
  },
  {
   "metadata": {
    "ExecuteTime": {
     "end_time": "2024-08-22T08:57:28.134896Z",
     "start_time": "2024-08-22T08:57:28.133279Z"
    }
   },
   "cell_type": "code",
   "source": "",
   "id": "a4f8cbafaeed90b6",
   "outputs": [],
   "execution_count": 107
  }
 ],
 "metadata": {
  "kernelspec": {
   "display_name": "Python 3",
   "language": "python",
   "name": "python3"
  },
  "language_info": {
   "codemirror_mode": {
    "name": "ipython",
    "version": 2
   },
   "file_extension": ".py",
   "mimetype": "text/x-python",
   "name": "python",
   "nbconvert_exporter": "python",
   "pygments_lexer": "ipython2",
   "version": "2.7.6"
  }
 },
 "nbformat": 4,
 "nbformat_minor": 5
}
