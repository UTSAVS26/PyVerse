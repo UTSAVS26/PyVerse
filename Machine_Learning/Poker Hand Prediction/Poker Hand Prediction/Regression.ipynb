{
 "cells": [
  {
   "cell_type": "code",
   "execution_count": 2,
   "metadata": {},
   "outputs": [],
   "source": [
    "from sklearn import linear_model as lm\n",
    "import numpy as np, pandas as pd, os, math\n",
    "from prettytable import PrettyTable\n",
    "from matplotlib import pyplot as plt"
   ]
  },
  {
   "cell_type": "code",
   "execution_count": 3,
   "metadata": {},
   "outputs": [],
   "source": [
    "# -------------------- Globals and Configs -------------------- #\n",
    "feature_names = list()\n",
    "for index in range(1, 6):\n",
    "    feature_names.extend([\"Suit\"+str(index), \"Rank\"+str(index)])\n",
    "\n",
    "feature_names.append('class')\n",
    "\n",
    "\n",
    "training_input_file = os.path.abspath('../datasets/csv/train.csv')\n",
    "testing_input_file = os.path.abspath('../datasets/csv/test.csv')\n",
    "\n",
    "np.random.seed(666)     # seed for reproducible results\n",
    "\n",
    "# To store configs\n",
    "class myConfigs:\n",
    "    features = 0\n",
    "    classes = 0\n",
    "\n",
    "\n",
    "config = myConfigs()"
   ]
  },
  {
   "cell_type": "code",
   "execution_count": 4,
   "metadata": {},
   "outputs": [
    {
     "name": "stdout",
     "output_type": "stream",
     "text": [
      "+----------+-------+\n",
      "|  Config  | Value |\n",
      "+----------+-------+\n",
      "| features |   10  |\n",
      "| classes  |   10  |\n",
      "+----------+-------+\n"
     ]
    },
    {
     "data": {
      "image/png": "[encoded data removed]",
      "text/plain": [
       "<Figure size 432x288 with 1 Axes>"
      ]
     },
     "metadata": {},
     "output_type": "display_data"
    }
   ],
   "source": [
    "# -------------------- Data -------------------- #\n",
    "\n",
    "train_data = pd.read_csv(training_input_file, names=feature_names)\n",
    "test_data = pd.read_csv(testing_input_file, names=feature_names)\n",
    "\n",
    "# Get features of data\n",
    "config.features = len(train_data.columns) - 1\n",
    "config.classes = len(set(train_data['class']))\n",
    "\n",
    "# Shuffle training data\n",
    "train_data = train_data.sample(frac=1).reset_index(drop=True)\n",
    "\n",
    "# Seperate data and classes\n",
    "train_y = np.array(train_data['class'])\n",
    "train_x = np.array(train_data.drop('class', 1))\n",
    "\n",
    "test_y = np.array(test_data['class'])\n",
    "test_x = np.array(test_data.drop('class', 1))\n",
    "\n",
    "if __name__ == '__main__':\n",
    "    tab = PrettyTable(['Config', 'Value'])\n",
    "    configs = vars(config)\n",
    "\n",
    "    for key in configs:\n",
    "        tab.add_row([key, configs[key]])\n",
    "    print(tab)\n",
    "\n",
    "test_y_l = list(test_y)\n",
    "plt.bar(list(range(config.classes)), [test_y_l.count(int(x)) for x in range(config.classes)])\n",
    "plt.show()"
   ]
  },
  {
   "cell_type": "code",
   "execution_count": 5,
   "metadata": {},
   "outputs": [],
   "source": [
    "# -------------------- Model -------------------- #\n",
    "model = lm.LinearRegression()\n",
    "trainedModel = model.fit(train_x, train_y)\n",
    "\n",
    "predictions = model.predict(test_x)"
   ]
  },
  {
   "cell_type": "code",
   "execution_count": 6,
   "metadata": {},
   "outputs": [
    {
     "name": "stdout",
     "output_type": "stream",
     "text": [
      "Average error : 0.6183909469152787\n",
      "RMSE : 0.7734871585310373\n"
     ]
    }
   ],
   "source": [
    "avgError = sum([math.fabs(x-y) for x, y in zip(predictions, test_y)]) / len(predictions)\n",
    "print(\"Average error :\", avgError)\n",
    "\n",
    "rmsError = sum([(x-y)**2 for x, y in zip(predictions, test_y)]) / len(predictions)\n",
    "rmsError = math.sqrt(rmsError)\n",
    "print(\"RMSE :\", rmsError)"
   ]
  },
  {
   "cell_type": "code",
   "execution_count": 7,
   "metadata": {},
   "outputs": [
    {
     "data": {
      "image/png": "[encoded data removed]",
      "text/plain": [
       "<Figure size 432x288 with 1 Axes>"
      ]
     },
     "metadata": {},
     "output_type": "display_data"
    }
   ],
   "source": [
    "plt.plot(test_y, 'bo', label='actual')\n",
    "plt.plot(predictions, 'ro', label='predicted')\n",
    "plt.legend()\n",
    "plt.show()"
   ]
  },
  {
   "cell_type": "code",
   "execution_count": 8,
   "metadata": {},
   "outputs": [
    {
     "data": {
      "text/plain": [
       "0.0002948116018505198"
      ]
     },
     "execution_count": 8,
     "metadata": {},
     "output_type": "execute_result"
    }
   ],
   "source": [
    "model.score(train_x, train_y)"
   ]
  },
  {
   "cell_type": "code",
   "execution_count": 9,
   "metadata": {},
   "outputs": [
    {
     "name": "stdout",
     "output_type": "stream",
     "text": [
      "+--------+--------+--------+--------+--------+--------+--------+--------+--------+--------+--------+\n",
      "|        | Pred 0 | Pred 1 | Pred 2 | Pred 3 | Pred 4 | Pred 5 | Pred 6 | Pred 7 | Pred 8 | Pred 9 |\n",
      "+--------+--------+--------+--------+--------+--------+--------+--------+--------+--------+--------+\n",
      "| Real 0 |   0    | 501209 |   0    |   0    |   0    |   0    |   0    |   0    |   0    |   0    |\n",
      "| Real 1 |   0    | 422498 |   0    |   0    |   0    |   0    |   0    |   0    |   0    |   0    |\n",
      "| Real 2 |   0    | 47622  |   0    |   0    |   0    |   0    |   0    |   0    |   0    |   0    |\n",
      "| Real 3 |   0    | 21121  |   0    |   0    |   0    |   0    |   0    |   0    |   0    |   0    |\n",
      "| Real 4 |   0    |  3885  |   0    |   0    |   0    |   0    |   0    |   0    |   0    |   0    |\n",
      "| Real 5 |   0    |  1996  |   0    |   0    |   0    |   0    |   0    |   0    |   0    |   0    |\n",
      "| Real 6 |   0    |  1424  |   0    |   0    |   0    |   0    |   0    |   0    |   0    |   0    |\n",
      "| Real 7 |   0    |  230   |   0    |   0    |   0    |   0    |   0    |   0    |   0    |   0    |\n",
      "| Real 8 |   0    |   12   |   0    |   0    |   0    |   0    |   0    |   0    |   0    |   0    |\n",
      "| Real 9 |   0    |   3    |   0    |   0    |   0    |   0    |   0    |   0    |   0    |   0    |\n",
      "+--------+--------+--------+--------+--------+--------+--------+--------+--------+--------+--------+\n",
      "Accuracy : 42.2498\n"
     ]
    }
   ],
   "source": [
    "preds = predictions\n",
    "confMat = [[0] * config.classes for x in range(config.classes)]\n",
    "acc = 0\n",
    "\n",
    "for i in range(len(preds)):\n",
    "    predLabel = int(round(preds[i]))\n",
    "    actLabel = int(round(test_y[i]))\n",
    "    confMat[actLabel][predLabel] += 1\n",
    "    if predLabel == actLabel:\n",
    "        acc += 1\n",
    "\n",
    "header = [\"\"]\n",
    "for l in range(config.classes):\n",
    "    header.append(\"Pred \" + str(l))\n",
    "    \n",
    "tab = PrettyTable(header)\n",
    "l = 0\n",
    "for c in confMat:\n",
    "    tab.add_row([\"Real \" + str(l)] + c)\n",
    "    l += 1\n",
    "\n",
    "print(tab)\n",
    "print(\"Accuracy :\", acc * 100 / len(preds))"
   ]
  }
 ],
 "metadata": {
  "kernelspec": {
   "display_name": "Python 3",
   "language": "python",
   "name": "python3"
  },
  "language_info": {
   "codemirror_mode": {
    "name": "ipython",
    "version": 3
   },
   "file_extension": ".py",
   "mimetype": "text/x-python",
   "name": "python",
   "nbconvert_exporter": "python",
   "pygments_lexer": "ipython3",
   "version": "3.5.2"
  }
 },
 "nbformat": 4,
 "nbformat_minor": 2
}
