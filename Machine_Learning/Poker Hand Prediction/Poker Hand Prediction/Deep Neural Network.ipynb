{
 "cells": [
  {
   "cell_type": "code",
   "execution_count": 1,
   "metadata": {},
   "outputs": [
    {
     "name": "stderr",
     "output_type": "stream",
     "text": [
      "Using TensorFlow backend.\n"
     ]
    }
   ],
   "source": [
    "# -------------------- Imports -------------------- #\n",
    "from keras.models import Sequential\n",
    "from keras.layers import Input, Dense, Flatten\n",
    "from keras.models import Model\n",
    "import numpy as np, pandas as pd, os\n",
    "from prettytable import PrettyTable\n",
    "from matplotlib import pyplot as plt\n",
    "import math"
   ]
  },
  {
   "cell_type": "code",
   "execution_count": 2,
   "metadata": {},
   "outputs": [],
   "source": [
    "# -------------------- Globals and Configs -------------------- #\n",
    "feature_names = list()\n",
    "for index in range(1, 6):\n",
    "    feature_names.extend([\"Suit\"+str(index), \"Rank\"+str(index)])\n",
    "\n",
    "feature_names.append('class')\n",
    "\n",
    "\n",
    "training_input_file = os.path.abspath('../datasets/csv/train.csv')\n",
    "testing_input_file = os.path.abspath('../datasets/csv/test.csv')\n",
    "\n",
    "np.random.seed(666)     # seed for reproducible results\n",
    "\n",
    "# To store configs\n",
    "class myConfigs:\n",
    "    features = 0\n",
    "    classes = 0\n",
    "\n",
    "\n",
    "config = myConfigs()"
   ]
  },
  {
   "cell_type": "code",
   "execution_count": 3,
   "metadata": {},
   "outputs": [
    {
     "name": "stdout",
     "output_type": "stream",
     "text": [
      "+----------+-------+\n",
      "|  Config  | Value |\n",
      "+----------+-------+\n",
      "| features |   10  |\n",
      "| classes  |   10  |\n",
      "+----------+-------+\n",
      "Instances in training data : 25010\n",
      "Instances in testing data : 1000000\n"
     ]
    }
   ],
   "source": [
    "# -------------------- Data -------------------- #\n",
    "\n",
    "train_data = pd.read_csv(training_input_file, names=feature_names)\n",
    "test_data = pd.read_csv(testing_input_file, names=feature_names)\n",
    "\n",
    "# Get features of data\n",
    "config.features = len(train_data.columns) - 1\n",
    "config.classes = len(set(train_data['class']))\n",
    "\n",
    "# Shuffle training data\n",
    "train_data = train_data.sample(frac=1).reset_index(drop=True)\n",
    "\n",
    "# Seperate data and classes\n",
    "train_y = np.array(train_data['class'])\n",
    "train_x = np.array(train_data.drop('class', 1))\n",
    "\n",
    "test_y = np.array(test_data['class'])\n",
    "test_x = np.array(test_data.drop('class', 1))\n",
    "\n",
    "train_y_onehot = list()\n",
    "for y in range(len(train_y)):\n",
    "    temp = [0] * config.classes\n",
    "    temp[train_y[y]] = 1\n",
    "    train_y_onehot.append(temp)\n",
    "    \n",
    "test_y_onehot = list()\n",
    "for y in range(len(test_y)):\n",
    "    temp = [0] * config.classes\n",
    "    temp[test_y[y]] = 1\n",
    "    test_y_onehot.append(temp)\n",
    "    \n",
    "train_y_onehot = np.array(train_y_onehot)\n",
    "test_y_onehot = np.array(test_y_onehot)\n",
    "\n",
    "tab = PrettyTable(['Config', 'Value'])\n",
    "configs = vars(config)\n",
    "\n",
    "for key in configs:\n",
    "    tab.add_row([key, configs[key]])\n",
    "print(tab)\n",
    "\n",
    "print(\"Instances in training data :\", len(train_data))\n",
    "print(\"Instances in testing data :\", len(test_data))"
   ]
  },
  {
   "cell_type": "code",
   "execution_count": 4,
   "metadata": {},
   "outputs": [
    {
     "data": {
      "text/plain": [
       "<keras.callbacks.History at 0x7efe5fb83e48>"
      ]
     },
     "execution_count": 4,
     "metadata": {},
     "output_type": "execute_result"
    }
   ],
   "source": [
    "# -------------------- Model -------------------- #\n",
    "model = Sequential()\n",
    "\n",
    "# Input layer\n",
    "model.add(Dense(10, input_shape = (train_x.shape[1],), activation='tanh'))\n",
    "\n",
    "# Hidden layer\n",
    "model.add(Dense(64, activation='tanh'))\n",
    "model.add(Dense(64, activation='tanh'))\n",
    "model.add(Dense(64, activation='tanh'))\n",
    "model.add(Dense(64, activation='tanh'))\n",
    "model.add(Dense(64, activation='tanh'))\n",
    "\n",
    "# Output layer\n",
    "model.add(Dense(10, activation='softmax'))\n",
    "model.compile(loss='categorical_crossentropy', optimizer='adam', metrics=['accuracy'])\n",
    "model.fit(train_x, train_y_onehot, epochs = 450, batch_size = 500, verbose=0)"
   ]
  },
  {
   "cell_type": "code",
   "execution_count": 5,
   "metadata": {},
   "outputs": [
    {
     "name": "stdout",
     "output_type": "stream",
     "text": [
      "Matches : 21978 / 25010 = 87.87684926029588\n",
      "Average Error : 0.14566173530587764\n",
      "RMSE : 0.4909008113227937\n"
     ]
    },
    {
     "data": {
      "image/png": "[encoded data removed]",
      "text/plain": [
       "<Figure size 432x288 with 1 Axes>"
      ]
     },
     "metadata": {},
     "output_type": "display_data"
    }
   ],
   "source": [
    "preds = [list(x) for x in model.predict(train_x)]\n",
    "for i in range(len(preds)):\n",
    "    preds[i] = preds[i].index(max(preds[i]))\n",
    "\n",
    "train_matches = 0\n",
    "for i in range(len(train_y)):\n",
    "    if train_y[i] == preds[i]:\n",
    "        train_matches += 1\n",
    "        \n",
    "print(\"Matches :\", train_matches, '/', len(train_y), '=', train_matches/len(train_y) * 100)\n",
    "print(\"Average Error :\", sum([math.fabs(x-y) for x, y in zip(train_y, preds)])/len(train_y))\n",
    "print(\"RMSE :\", math.sqrt(sum([(x-y)**2 for x, y in zip(train_y, preds)])/len(train_y)))\n",
    "    \n",
    "plt.plot(train_y, 'bo', label='Original')\n",
    "plt.plot(preds, 'ro', label='Predicted')\n",
    "plt.legend()\n",
    "plt.show()"
   ]
  },
  {
   "cell_type": "code",
   "execution_count": 6,
   "metadata": {},
   "outputs": [
    {
     "name": "stdout",
     "output_type": "stream",
     "text": [
      "Matches : 830663 / 1000000 = 83.0663\n",
      "Average Error : 0.202623\n",
      "RMSE : 0.5613546116315425\n"
     ]
    },
    {
     "data": {
      "image/png": "[encoded data removed]",
      "text/plain": [
       "<Figure size 432x288 with 1 Axes>"
      ]
     },
     "metadata": {},
     "output_type": "display_data"
    }
   ],
   "source": [
    "preds = [list(x) for x in model.predict(test_x)]\n",
    "for i in range(len(preds)):\n",
    "    preds[i] = preds[i].index(max(preds[i]))\n",
    "\n",
    "test_matches = 0\n",
    "for i in range(len(test_y)):\n",
    "    if test_y[i] == preds[i]:\n",
    "        test_matches += 1\n",
    "        \n",
    "print(\"Matches :\", test_matches, '/', len(test_y), '=', test_matches/len(test_y) * 100)\n",
    "print(\"Average Error :\", sum([math.fabs(x-y) for x, y in zip(test_y, preds)])/len(test_y))\n",
    "print(\"RMSE :\", math.sqrt(sum([(x-y)**2 for x, y in zip(test_y, preds)])/len(test_y)))\n",
    "    \n",
    "plt.plot(test_y, 'bo', label='Original')\n",
    "plt.plot(preds, 'ro', label='Predicted')\n",
    "plt.legend()\n",
    "plt.show()"
   ]
  },
  {
   "cell_type": "code",
   "execution_count": 7,
   "metadata": {},
   "outputs": [
    {
     "name": "stdout",
     "output_type": "stream",
     "text": [
      "25010/25010 [==============================] - 1s 27us/step\n",
      "Train = acc 87.87684926124918\n",
      "1000000/1000000 [==============================] - 24s 24us/step\n",
      "Test = acc 83.0663\n"
     ]
    }
   ],
   "source": [
    "scores = model.evaluate(train_x, train_y_onehot)\n",
    "print(\"Train =\", model.metrics_names[1], scores[1] * 100)\n",
    "\n",
    "scores = model.evaluate(test_x, test_y_onehot)\n",
    "print(\"Test =\", model.metrics_names[1], scores[1] * 100)"
   ]
  },
  {
   "cell_type": "code",
   "execution_count": 27,
   "metadata": {},
   "outputs": [],
   "source": [
    "train_accuracies = list()\n",
    "test_accuracies = list()\n",
    "\n",
    "for iterations in range(50, 500, 50):\n",
    "    model.fit(train_x, train_y_onehot, epochs = iterations, batch_size = 500, verbose=0)\n",
    "    scores = model.evaluate(train_x, train_y_onehot, verbose=0)\n",
    "    train_accuracies.append(scores[1]* 100)\n",
    "    scores = model.evaluate(test_x, test_y_onehot, verbose=0)\n",
    "    test_accuracies.append(scores[1]* 100)"
   ]
  },
  {
   "cell_type": "code",
   "execution_count": 28,
   "metadata": {},
   "outputs": [
    {
     "data": {
      "image/png": "[encoded data removed]",
      "text/plain": [
       "<Figure size 432x288 with 1 Axes>"
      ]
     },
     "metadata": {},
     "output_type": "display_data"
    },
    {
     "data": {
      "image/png": "[encoded data removed]",
      "text/plain": [
       "<Figure size 432x288 with 1 Axes>"
      ]
     },
     "metadata": {},
     "output_type": "display_data"
    }
   ],
   "source": [
    "plt.title('Accuracies for training data')\n",
    "plt.plot(range(50, 500, 50), train_accuracies)\n",
    "plt.show()\n",
    "plt.title('Accuracies for testing data')\n",
    "plt.plot(range(50, 500, 50), test_accuracies)\n",
    "plt.show()"
   ]
  },
  {
   "cell_type": "code",
   "execution_count": 8,
   "metadata": {},
   "outputs": [
    {
     "name": "stdout",
     "output_type": "stream",
     "text": [
      "+--------+--------+--------+--------+--------+--------+--------+--------+--------+--------+--------+\n",
      "|        | Pred 0 | Pred 1 | Pred 2 | Pred 3 | Pred 4 | Pred 5 | Pred 6 | Pred 7 | Pred 8 | Pred 9 |\n",
      "+--------+--------+--------+--------+--------+--------+--------+--------+--------+--------+--------+\n",
      "| Real 0 | 475668 | 25289  |  125   |   22   |   93   |   0    |   0    |   0    |   1    |   11   |\n",
      "| Real 1 | 94241  | 319272 |  6485  |  2024  |  456   |   0    |   10   |   0    |   10   |   0    |\n",
      "| Real 2 |  2508  | 21625  | 22304  |  1096  |   16   |   0    |   68   |   4    |   1    |   0    |\n",
      "| Real 3 |  569   |  7245  |  1173  | 12031  |   3    |   0    |   97   |   2    |   1    |   0    |\n",
      "| Real 4 |  1045  |  1618  |  102   |   6    |  1108  |   0    |   0    |   0    |   1    |   5    |\n",
      "| Real 5 |  1905  |   91   |   0    |   0    |   0    |   0    |   0    |   0    |   0    |   0    |\n",
      "| Real 6 |   16   |  131   |  652   |  365   |   0    |   0    |  256   |   4    |   0    |   0    |\n",
      "| Real 7 |   0    |   14   |   36   |  129   |   0    |   0    |   27   |   24   |   0    |   0    |\n",
      "| Real 8 |   5    |   4    |   0    |   0    |   3    |   0    |   0    |   0    |   0    |   0    |\n",
      "| Real 9 |   2    |   1    |   0    |   0    |   0    |   0    |   0    |   0    |   0    |   0    |\n",
      "+--------+--------+--------+--------+--------+--------+--------+--------+--------+--------+--------+\n"
     ]
    }
   ],
   "source": [
    "confMat = [[0] * config.classes for x in range(config.classes)]\n",
    "\n",
    "for i in range(len(preds)):\n",
    "    predLabel = preds[i]\n",
    "    actLabel = test_y[i]\n",
    "    confMat[actLabel][predLabel] += 1\n",
    "\n",
    "header = [\"\"]\n",
    "for l in range(config.classes):\n",
    "    header.append(\"Pred \" + str(l))\n",
    "    \n",
    "tab = PrettyTable(header)\n",
    "l = 0\n",
    "for c in confMat:\n",
    "    tab.add_row([\"Real \" + str(l)] + c)\n",
    "    l += 1\n",
    "\n",
    "print(tab)"
   ]
  },
  {
   "cell_type": "code",
   "execution_count": null,
   "metadata": {},
   "outputs": [],
   "source": []
  }
 ],
 "metadata": {
  "kernelspec": {
   "display_name": "Python 3",
   "language": "python",
   "name": "python3"
  },
  "language_info": {
   "codemirror_mode": {
    "name": "ipython",
    "version": 3
   },
   "file_extension": ".py",
   "mimetype": "text/x-python",
   "name": "python",
   "nbconvert_exporter": "python",
   "pygments_lexer": "ipython3",
   "version": "3.5.2"
  }
 },
 "nbformat": 4,
 "nbformat_minor": 2
}
