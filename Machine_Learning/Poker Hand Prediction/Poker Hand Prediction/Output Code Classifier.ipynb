{
 "cells": [
  {
   "cell_type": "code",
   "execution_count": 1,
   "metadata": {},
   "outputs": [],
   "source": [
    "# -------------------- Imports -------------------- #\n",
    "\n",
    "from sklearn.multiclass import OutputCodeClassifier\n",
    "from sklearn.ensemble import BaggingClassifier\n",
    "from sklearn.preprocessing import StandardScaler\n",
    "from sklearn.metrics import accuracy_score\n",
    "from matplotlib import pyplot as plt\n",
    "import numpy as np, pandas as pd, os\n",
    "from prettytable import PrettyTable"
   ]
  },
  {
   "cell_type": "code",
   "execution_count": 2,
   "metadata": {},
   "outputs": [],
   "source": [
    "# -------------------- Globals and Configs -------------------- #\n",
    "\n",
    "feature_names = list()\n",
    "for index in range(1, 6):\n",
    "    feature_names.extend([\"Suit\"+str(index), \"Rank\"+str(index)])\n",
    "\n",
    "feature_names.append('class')\n",
    "\n",
    "\n",
    "training_input_file = os.path.abspath('../datasets/csv/train.csv')\n",
    "testing_input_file = os.path.abspath('../datasets/csv/test.csv')\n",
    "\n",
    "np.random.seed(666)     # seed for reproducible results\n",
    "\n",
    "# To store configs\n",
    "class myConfigs:\n",
    "    features = 0\n",
    "    classes = 0\n",
    "\n",
    "\n",
    "config = myConfigs()"
   ]
  },
  {
   "cell_type": "code",
   "execution_count": 3,
   "metadata": {},
   "outputs": [
    {
     "name": "stdout",
     "output_type": "stream",
     "text": [
      "+----------+-------+\n",
      "|  Config  | Value |\n",
      "+----------+-------+\n",
      "| features |   10  |\n",
      "| classes  |   10  |\n",
      "+----------+-------+\n",
      "Instances in training data : 25010\n",
      "Instances in testing data : 1000000\n"
     ]
    }
   ],
   "source": [
    "# -------------------- Data -------------------- #\n",
    "\n",
    "train_data = pd.read_csv(training_input_file, names=feature_names)\n",
    "test_data = pd.read_csv(testing_input_file, names=feature_names)\n",
    "\n",
    "# Get features of data\n",
    "config.features = len(train_data.columns) - 1\n",
    "config.classes = len(set(train_data['class']))\n",
    "\n",
    "# Shuffle training data\n",
    "train_data = train_data.sample(frac=1).reset_index(drop=True)\n",
    "\n",
    "# Seperate data and classes\n",
    "train_y = np.array(train_data['class'])\n",
    "train_x = np.array(train_data.drop('class', 1))\n",
    "\n",
    "test_y = np.array(test_data['class'])\n",
    "test_x = np.array(test_data.drop('class', 1))\n",
    "\n",
    "# Initialise scaler to scale the data\n",
    "scaler = StandardScaler()\n",
    "\n",
    "train_set = np.empty(train_x.shape, dtype = float)\n",
    "test_set = np.empty(test_x.shape, dtype = float)\n",
    "\n",
    "# Make training data suitable for scaling\n",
    "for index in range(len(train_x)):\n",
    "    train_set[index] = train_x[index].astype(float)\n",
    "\n",
    "# Make testing data suitable for scaling\n",
    "for index in range(len(test_x)):\n",
    "    test_set[index] = test_x[index].astype(float)\n",
    "\n",
    "# Fit the training data\n",
    "scaler.fit(train_set)  \n",
    "\n",
    "# Scale the training and testing data w.r.t scaler\n",
    "data_train = scaler.transform(train_set)\n",
    "data_test = scaler.transform(test_set)\n",
    "\n",
    "tab = PrettyTable(['Config', 'Value'])\n",
    "configs = vars(config)\n",
    "\n",
    "for key in configs:\n",
    "    tab.add_row([key, configs[key]])\n",
    "print(tab)\n",
    "\n",
    "print(\"Instances in training data :\", len(train_data))\n",
    "print(\"Instances in testing data :\", len(test_data))"
   ]
  },
  {
   "cell_type": "code",
   "execution_count": 4,
   "metadata": {},
   "outputs": [],
   "source": [
    "# -------------------- Model -------------------- #\n",
    "\n",
    "occ = OutputCodeClassifier(BaggingClassifier())\n",
    "occ.fit(data_train, train_y)\n",
    "prediction = occ.predict(data_test)\n",
    "accuracy = accuracy_score(test_y, prediction)"
   ]
  },
  {
   "cell_type": "code",
   "execution_count": 5,
   "metadata": {},
   "outputs": [
    {
     "name": "stdout",
     "output_type": "stream",
     "text": [
      "\n",
      "Accuracy using Output Code Classifier : 61.326 %\n",
      "\n"
     ]
    }
   ],
   "source": [
    "# -------------------- Print the final result -------------------- #\n",
    "\n",
    "print(\"\\nAccuracy using Output Code Classifier :\", round(accuracy * 100, 3),\"%\\n\")"
   ]
  },
  {
   "cell_type": "code",
   "execution_count": 6,
   "metadata": {},
   "outputs": [
    {
     "name": "stdout",
     "output_type": "stream",
     "text": [
      "Accuracy : 61.326\n"
     ]
    },
    {
     "data": {
      "image/png": "[encoded data removed]",
      "text/plain": [
       "<Figure size 432x288 with 1 Axes>"
      ]
     },
     "metadata": {},
     "output_type": "display_data"
    }
   ],
   "source": [
    "# -------------------- Visualisations -------------------- #\n",
    "\n",
    "print(\"Accuracy :\", round(accuracy * 100, 3))\n",
    "plt.plot(test_y, 'bo', label = \"Original\")\n",
    "plt.plot(prediction, 'ro', label = \"Predicted\")\n",
    "plt.legend()\n",
    "plt.show()"
   ]
  },
  {
   "cell_type": "code",
   "execution_count": 7,
   "metadata": {},
   "outputs": [
    {
     "name": "stdout",
     "output_type": "stream",
     "text": [
      "+--------+--------+--------+--------+--------+--------+--------+--------+--------+--------+--------+\n",
      "|        | Pred 0 | Pred 1 | Pred 2 | Pred 3 | Pred 4 | Pred 5 | Pred 6 | Pred 7 | Pred 8 | Pred 9 |\n",
      "+--------+--------+--------+--------+--------+--------+--------+--------+--------+--------+--------+\n",
      "| Real 0 | 413004 | 85828  |   24   |   2    |  2347  |   1    |   0    |   0    |   3    |   0    |\n",
      "| Real 1 | 216903 | 198716 |  666   |  174   |  6022  |   0    |   2    |   0    |   4    |   11   |\n",
      "| Real 2 | 13546  | 31787  |  606   |  134   |  1534  |   0    |   4    |   2    |   0    |   9    |\n",
      "| Real 3 |  3560  | 16298  |  151   |  638   |  464   |   0    |   1    |   3    |   4    |   2    |\n",
      "| Real 4 |  457   |  3120  |   18   |   1    |  288   |   0    |   0    |   0    |   0    |   1    |\n",
      "| Real 5 |  1779  |  200   |   0    |   0    |   6    |   2    |   0    |   0    |   4    |   5    |\n",
      "| Real 6 |   99   |  1146  |   51   |   66   |   59   |   0    |   2    |   1    |   0    |   0    |\n",
      "| Real 7 |   4    |  182   |   8    |   30   |   6    |   0    |   0    |   0    |   0    |   0    |\n",
      "| Real 8 |   3    |   5    |   0    |   0    |   3    |   0    |   0    |   0    |   0    |   1    |\n",
      "| Real 9 |   2    |   1    |   0    |   0    |   0    |   0    |   0    |   0    |   0    |   0    |\n",
      "+--------+--------+--------+--------+--------+--------+--------+--------+--------+--------+--------+\n"
     ]
    }
   ],
   "source": [
    "preds = prediction\n",
    "confMat = [[0] * config.classes for x in range(config.classes)]\n",
    "\n",
    "for i in range(len(preds)):\n",
    "    predLabel = preds[i]\n",
    "    actLabel = test_y[i]\n",
    "    confMat[actLabel][predLabel] += 1\n",
    "\n",
    "header = [\"\"]\n",
    "for l in range(config.classes):\n",
    "    header.append(\"Pred \" + str(l))\n",
    "    \n",
    "tab = PrettyTable(header)\n",
    "l = 0\n",
    "for c in confMat:\n",
    "    tab.add_row([\"Real \" + str(l)] + c)\n",
    "    l += 1\n",
    "\n",
    "print(tab)"
   ]
  }
 ],
 "metadata": {
  "kernelspec": {
   "display_name": "Python 3",
   "language": "python",
   "name": "python3"
  },
  "language_info": {
   "codemirror_mode": {
    "name": "ipython",
    "version": 3
   },
   "file_extension": ".py",
   "mimetype": "text/x-python",
   "name": "python",
   "nbconvert_exporter": "python",
   "pygments_lexer": "ipython3",
   "version": "3.5.2"
  }
 },
 "nbformat": 4,
 "nbformat_minor": 2
}
