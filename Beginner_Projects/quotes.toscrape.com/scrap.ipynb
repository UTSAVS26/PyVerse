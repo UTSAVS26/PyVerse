{
 "cells": [
  {
   "cell_type": "code",
   "execution_count": 2,
   "metadata": {},
   "outputs": [
    {
     "name": "stdout",
     "output_type": "stream",
     "text": [
      "Quotes have been written to quotes.xlsx\n"
     ]
    }
   ],
   "source": [
    "import requests\n",
    "from bs4 import BeautifulSoup\n",
    "import pandas as pd\n",
    "\n",
    "def scrape_quotes():\n",
    "    # URL of the site to scrape\n",
    "    url = 'http://quotes.toscrape.com/'\n",
    "    \n",
    "    # Send a GET request to fetch the webpage content\n",
    "    response = requests.get(url)\n",
    "\n",
    "    # Check if the request was successful\n",
    "    if response.status_code == 200:\n",
    "        # Parse the webpage content\n",
    "        soup = BeautifulSoup(response.text, 'html.parser')\n",
    "\n",
    "        # Find all quote elements\n",
    "        quotes = soup.find_all('div', class_='quote')\n",
    "\n",
    "        # Lists to hold quotes and authors\n",
    "        quotes_list = []\n",
    "        authors_list = []\n",
    "\n",
    "        # Loop through the quotes and store the text and author\n",
    "        for quote in quotes:\n",
    "            text = quote.find('span', class_='text').text\n",
    "            author = quote.find('small', class_='author').text\n",
    "            quotes_list.append(text)\n",
    "            authors_list.append(author)\n",
    "\n",
    "        # Create a DataFrame\n",
    "        quotes_df = pd.DataFrame({\n",
    "            'Quote': quotes_list,\n",
    "            'Author': authors_list\n",
    "        })\n",
    "\n",
    "        # Write the DataFrame to an Excel file\n",
    "        quotes_df.to_excel('quotes.xlsx', index=False)\n",
    "        print(\"Quotes have been written to quotes.xlsx\")\n",
    "\n",
    "    else:\n",
    "        print(f'Failed to retrieve webpage. Status code: {response.status_code}')\n",
    "\n",
    "# Run the scraper\n",
    "scrape_quotes()"
   ]
  }
 ],
 "metadata": {
  "kernelspec": {
   "display_name": "Python 3",
   "language": "python",
   "name": "python3"
  },
  "language_info": {
   "codemirror_mode": {
    "name": "ipython",
    "version": 3
   },
   "file_extension": ".py",
   "mimetype": "text/x-python",
   "name": "python",
   "nbconvert_exporter": "python",
   "pygments_lexer": "ipython3",
   "version": "3.8.10"
  }
 },
 "nbformat": 4,
 "nbformat_minor": 2
}
