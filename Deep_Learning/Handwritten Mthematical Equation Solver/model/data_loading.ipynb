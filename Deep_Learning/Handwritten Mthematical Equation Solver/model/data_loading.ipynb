{
 "cells": [
  {
   "cell_type": "code",
   "execution_count": 2,
   "id": "63d7134c-6331-438e-8fb0-31691de85388",
   "metadata": {},
   "outputs": [],
   "source": [
    "import tensorflow as tf\n",
    "from tensorflow.keras.applications import ResNet50 \n",
    "from tensorflow.keras.preprocessing.image import ImageDataGenerator \n",
    "\n"
   ]
  },
  {
   "cell_type": "code",
   "execution_count": 15,
   "id": "88ae92a4-3d3c-4312-a2b5-ce20edd2d4c7",
   "metadata": {},
   "outputs": [],
   "source": [
    "IMG_SIZE = (224, 224)\n",
    "BATCH_SIZE = 32\n",
    "train_datagen = ImageDataGenerator(\n",
    "    rescale=1./255,\n",
    "    rotation_range=20,\n",
    "    width_shift_range=0.2,\n",
    "    height_shift_range=0.2,\n",
    "    shear_range=0.2,\n",
    "    zoom_range=0.2,\n",
    "    horizontal_flip=False,\n",
    "    fill_mode='nearest'\n",
    ")"
   ]
  },
  {
   "cell_type": "code",
   "execution_count": 4,
   "id": "46b76b28-d347-4b1a-a1c4-08f9e8a72021",
   "metadata": {},
   "outputs": [
    {
     "name": "stdout",
     "output_type": "stream",
     "text": [
      "Found 254347 images belonging to 82 classes.\n"
     ]
    }
   ],
   "source": [
    "val_test_datagen = ImageDataGenerator(rescale=1./255)\n",
    "\n",
    "train_generator = train_datagen.flow_from_directory(\n",
    "    '../dataset/train',\n",
    "    target_size=IMG_SIZE,\n",
    "    batch_size=BATCH_SIZE,\n",
    "    class_mode='categorical'\n",
    ")\n"
   ]
  },
  {
   "cell_type": "code",
   "execution_count": 5,
   "id": "1d8df4e7-786a-4417-b4f4-a88947a2b21c",
   "metadata": {},
   "outputs": [
    {
     "name": "stdout",
     "output_type": "stream",
     "text": [
      "Found 63637 images belonging to 82 classes.\n"
     ]
    }
   ],
   "source": [
    "validation_generator = val_test_datagen.flow_from_directory(\n",
    "    '../dataset/val',\n",
    "    target_size=IMG_SIZE,\n",
    "    batch_size=BATCH_SIZE,\n",
    "    class_mode='categorical'\n",
    ")"
   ]
  },
  {
   "cell_type": "code",
   "execution_count": 6,
   "id": "a956e294-d334-4a16-9626-22ef93d5ebed",
   "metadata": {},
   "outputs": [],
   "source": [
    "base_model = ResNet50(weights='imagenet', include_top=False, input_shape=IMG_SIZE + (3,))\n",
    "x = tf.keras.layers.GlobalAveragePooling2D()(base_model.output)\n",
    "x = tf.keras.layers.Dense(1024, activation='relu')(x)\n",
    "x = tf.keras.layers.Dropout(0.5)(x)\n",
    "outputs = tf.keras.layers.Dense(len(train_generator.class_indices), activation='softmax')(x)\n",
    "\n",
    "model = tf.keras.Model(inputs=base_model.input, outputs=outputs)\n",
    "\n",
    "for layer in base_model.layers:\n",
    "    layer.trainable = False\n",
    "\n",
    "model.compile(optimizer='adam', loss='categorical_crossentropy', metrics=['accuracy'])"
   ]
  },
  {
   "cell_type": "code",
   "execution_count": null,
   "id": "fe187a02-84ed-4e0e-963a-7f6ab50542d0",
   "metadata": {},
   "outputs": [],
   "source": [
    "history = model.fit(\n",
    "    train_generator,\n",
    "    steps_per_epoch=train_generator.samples // BATCH_SIZE,\n",
    "    validation_data=validation_generator,\n",
    "    validation_steps=validation_generator.samples // BATCH_SIZE,\n",
    "    epochs=20\n",
    ")\n"
   ]
  },
  {
   "cell_type": "code",
   "execution_count": null,
   "id": "ae753697-ffda-4c8f-840f-63ded1261900",
   "metadata": {},
   "outputs": [],
   "source": [
    "for layer in base_model.layers[-30:]:\n",
    "    layer.trainable = True\n",
    "\n",
    "model.compile(optimizer=tf.keras.optimizers.Adam(1e-5),\n",
    "              loss='categorical_crossentropy',\n",
    "              metrics=['accuracy'])\n",
    "\n",
    "history_fine = model.fit(\n",
    "    train_generator,\n",
    "    steps_per_epoch=train_generator.samples // BATCH_SIZE,\n",
    "    validation_data=validation_generator,\n",
    "    validation_steps=validation_generator.samples // BATCH_SIZE,\n",
    "    epochs=10\n",
    ")"
   ]
  },
  {
   "cell_type": "code",
   "execution_count": 10,
   "id": "a5dcd8a8-68cd-48c9-94a4-152fd0b4b758",
   "metadata": {
    "scrolled": true
   },
   "outputs": [
    {
     "name": "stderr",
     "output_type": "stream",
     "text": [
      "WARNING:absl:You are saving your model as an HDF5 file via `model.save()` or `keras.saving.save_model(model)`. This file format is considered legacy. We recommend using instead the native Keras format, e.g. `model.save('my_model.keras')` or `keras.saving.save_model(model, 'my_model.keras')`. \n"
     ]
    },
    {
     "name": "stdout",
     "output_type": "stream",
     "text": [
      "Found 79545 images belonging to 82 classes.\n"
     ]
    }
   ],
   "source": [
    "model.save('handwritten_equation_model.h5')\n",
    "test_generator = val_test_datagen.flow_from_directory(\n",
    "    '../dataset/test',\n",
    "    target_size=IMG_SIZE,\n",
    "    batch_size=BATCH_SIZE,\n",
    "    class_mode='categorical'\n",
    ")\n"
   ]
  },
  {
   "cell_type": "code",
   "execution_count": 11,
   "id": "c8a51422-b7ce-4d1b-b349-0880a3075ddc",
   "metadata": {},
   "outputs": [
    {
     "name": "stdout",
     "output_type": "stream",
     "text": [
      "\u001b[1m2486/2486\u001b[0m \u001b[32m━━━━━━━━━━━━━━━━━━━━\u001b[0m\u001b[37m\u001b[0m \u001b[1m3506s\u001b[0m 1s/step - accuracy: 0.8255 - loss: 0.6100\n",
      "Test accuracy: 0.8233\n"
     ]
    }
   ],
   "source": [
    "test_loss, test_accuracy = model.evaluate(test_generator)\n",
    "print(f\"Test accuracy: {test_accuracy:.4f}\")"
   ]
  },
  {
   "cell_type": "code",
   "execution_count": 12,
   "id": "a7f935b5-e20e-4b6b-a198-9e3101c40754",
   "metadata": {},
   "outputs": [
    {
     "name": "stdout",
     "output_type": "stream",
     "text": [
      "\u001b[1m2486/2486\u001b[0m \u001b[32m━━━━━━━━━━━━━━━━━━━━\u001b[0m\u001b[37m\u001b[0m \u001b[1m3203s\u001b[0m 1s/step\n"
     ]
    }
   ],
   "source": [
    "predictions = model.predict(test_generator)\n",
    "predicted_classes = predictions.argmax(axis=1)"
   ]
  },
  {
   "cell_type": "code",
   "execution_count": 14,
   "id": "3adbff29-3afc-4b28-8f53-40c68724d9ff",
   "metadata": {},
   "outputs": [
    {
     "name": "stdout",
     "output_type": "stream",
     "text": [
      "               precision    recall  f1-score   support\n",
      "\n",
      "            !       0.00      0.00      0.00       260\n",
      "            (       0.04      0.05      0.05      2859\n",
      "            )       0.04      0.05      0.04      2871\n",
      "            +       0.06      0.07      0.07      5023\n",
      "            ,       0.00      0.00      0.00       382\n",
      "            -       0.08      0.08      0.08      6800\n",
      "            0       0.02      0.02      0.02      1831\n",
      "            1       0.08      0.07      0.08      5753\n",
      "            2       0.07      0.07      0.07      5676\n",
      "            3       0.03      0.05      0.04      2623\n",
      "            4       0.02      0.02      0.02      1916\n",
      "            5       0.02      0.01      0.01      1135\n",
      "            6       0.02      0.01      0.02      1049\n",
      "            7       0.00      0.00      0.00      1006\n",
      "            8       0.01      0.02      0.02      1031\n",
      "            9       0.01      0.02      0.01      1152\n",
      "            =       0.04      0.04      0.04      2621\n",
      "            A       0.03      0.04      0.03      2474\n",
      "            C       0.02      0.02      0.02      1161\n",
      "        Delta       0.00      0.00      0.00        28\n",
      "            G       0.00      0.00      0.00       339\n",
      "            H       0.00      0.00      0.00       293\n",
      "            M       0.01      0.01      0.01       496\n",
      "            N       0.03      0.03      0.03      2173\n",
      "            R       0.01      0.00      0.01       535\n",
      "            S       0.00      0.00      0.00       283\n",
      "            T       0.01      0.01      0.01       655\n",
      "            X       0.07      0.08      0.07      5319\n",
      "            [       0.00      0.00      0.00       156\n",
      "            ]       0.00      0.00      0.00       156\n",
      "        alpha       0.01      0.01      0.01       510\n",
      "    ascii_124       0.00      0.00      0.00       268\n",
      "            b       0.02      0.02      0.02      1731\n",
      "         beta       0.01      0.01      0.01       405\n",
      "          cos       0.01      0.01      0.01       598\n",
      "            d       0.01      0.01      0.01       971\n",
      "          div       0.00      0.00      0.00       174\n",
      "            e       0.01      0.01      0.01       601\n",
      "       exists       0.00      0.00      0.00         5\n",
      "            f       0.01      0.01      0.01       743\n",
      "       forall       0.00      0.00      0.00         9\n",
      "forward_slash       0.00      0.00      0.00        40\n",
      "        gamma       0.00      0.00      0.00        82\n",
      "          geq       0.00      0.00      0.00       139\n",
      "           gt       0.00      0.00      0.00        52\n",
      "            i       0.02      0.02      0.02      1028\n",
      "           in       0.00      0.00      0.00        10\n",
      "        infty       0.01      0.01      0.01       357\n",
      "          int       0.01      0.00      0.01       549\n",
      "            j       0.00      0.00      0.00       308\n",
      "            k       0.01      0.01      0.01       615\n",
      "            l       0.00      0.00      0.00       204\n",
      "       lambda       0.00      0.00      0.00        22\n",
      "        ldots       0.00      0.00      0.00       122\n",
      "          leq       0.00      0.00      0.00       195\n",
      "          lim       0.01      0.01      0.01       335\n",
      "          log       0.00      0.00      0.00       401\n",
      "           lt       0.00      0.00      0.00        96\n",
      "           mu       0.00      0.00      0.00        36\n",
      "          neq       0.00      0.00      0.00       112\n",
      "            o       0.00      0.00      0.00        90\n",
      "            p       0.01      0.01      0.01       536\n",
      "          phi       0.00      0.00      0.00        71\n",
      "           pi       0.01      0.01      0.01       467\n",
      "           pm       0.00      0.00      0.00       161\n",
      "        prime       0.00      0.00      0.00        66\n",
      "            q       0.00      0.00      0.00       246\n",
      "   rightarrow       0.00      0.00      0.00       341\n",
      "        sigma       0.00      0.00      0.00        41\n",
      "          sin       0.01      0.01      0.01       859\n",
      "         sqrt       0.02      0.02      0.02      1782\n",
      "          sum       0.00      0.00      0.00       538\n",
      "          tan       0.00      0.01      0.01       490\n",
      "        theta       0.01      0.01      0.01       560\n",
      "        times       0.01      0.00      0.00       651\n",
      "            u       0.00      0.00      0.00       254\n",
      "            v       0.00      0.00      0.00       312\n",
      "            w       0.00      0.00      0.00       112\n",
      "            y       0.02      0.02      0.02      1868\n",
      "            z       0.01      0.01      0.01      1174\n",
      "            {       0.00      0.00      0.00        76\n",
      "            }       0.00      0.00      0.00        76\n",
      "\n",
      "     accuracy                           0.04     79545\n",
      "    macro avg       0.01      0.01      0.01     79545\n",
      " weighted avg       0.04      0.04      0.04     79545\n",
      "\n"
     ]
    }
   ],
   "source": [
    "from sklearn.metrics import classification_report \n",
    "import warnings\n",
    "from sklearn.exceptions import UndefinedMetricWarning\n",
    "warnings.filterwarnings('ignore', category=UndefinedMetricWarning)\n",
    "true_classes = test_generator.classes\n",
    "class_labels = list(test_generator.class_indices.keys())\n",
    "report = classification_report(true_classes, predicted_classes, target_names=class_labels)\n",
    "print(report)"
   ]
  },
  {
   "cell_type": "code",
   "execution_count": null,
   "id": "03de3eaa-8d64-40f8-bc1d-d11842e561e9",
   "metadata": {},
   "outputs": [],
   "source": []
  }
 ],
 "metadata": {
  "kernelspec": {
   "display_name": "Python 3 (ipykernel)",
   "language": "python",
   "name": "python3"
  },
  "language_info": {
   "codemirror_mode": {
    "name": "ipython",
    "version": 3
   },
   "file_extension": ".py",
   "mimetype": "text/x-python",
   "name": "python",
   "nbconvert_exporter": "python",
   "pygments_lexer": "ipython3",
   "version": "3.9.19"
  }
 },
 "nbformat": 4,
 "nbformat_minor": 5
}
