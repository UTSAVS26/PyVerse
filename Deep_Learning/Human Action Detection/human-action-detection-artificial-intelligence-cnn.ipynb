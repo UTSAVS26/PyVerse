{
 "cells": [
  {
   "cell_type": "code",
   "execution_count": null,
   "id": "173e9579",
   "metadata": {
    "papermill": {
     "duration": 0.037475,
     "end_time": "2022-04-23T01:10:45.468122",
     "exception": false,
     "start_time": "2022-04-23T01:10:45.430647",
     "status": "completed"
    },
    "tags": []
   },
   "outputs": [],
   "source": [
    "#from google.colab import drive\n",
    "#drive.mount('/content/drive')"
   ]
  },
  {
   "cell_type": "markdown",
   "id": "a46690a4",
   "metadata": {
    "id": "tveKY1qNUiY3",
    "papermill": {
     "duration": 0.030235,
     "end_time": "2022-04-23T01:10:45.653295",
     "exception": false,
     "start_time": "2022-04-23T01:10:45.623060",
     "status": "completed"
    },
    "tags": []
   },
   "source": [
    "## 📥 > 📙 Import to Libraries"
   ]
  },
  {
   "cell_type": "code",
   "execution_count": null,
   "id": "470a0a76",
   "metadata": {
    "id": "ztUox8JjUh62",
    "papermill": {
     "duration": 6.213063,
     "end_time": "2022-04-23T01:10:51.896238",
     "exception": false,
     "start_time": "2022-04-23T01:10:45.683175",
     "status": "completed"
    },
    "tags": []
   },
   "outputs": [],
   "source": [
    "import os\n",
    "import glob\n",
    "import numpy as np\n",
    "import pandas as pd\n",
    "import seaborn as sns\n",
    "import matplotlib.pyplot as plt\n",
    "from tensorflow.keras.layers import Dense\n",
    "from tensorflow.keras.models import Model\n",
    "from keras.preprocessing.image import ImageDataGenerator\n",
    "from tensorflow.keras.callbacks import Callback, EarlyStopping\n",
    "from sklearn.metrics import confusion_matrix, classification_report\n",
    "from tensorflow.keras.layers import *\n",
    "from tensorflow import keras\n",
    "from tensorflow.keras import Sequential\n",
    "import tensorflow as tf"
   ]
  },
  {
   "cell_type": "markdown",
   "id": "bd4cdbd2",
   "metadata": {
    "id": "GQym6szo-394",
    "papermill": {
     "duration": 0.030614,
     "end_time": "2022-04-23T01:10:51.957262",
     "exception": false,
     "start_time": "2022-04-23T01:10:51.926648",
     "status": "completed"
    },
    "tags": []
   },
   "source": [
    "## 📋 Data Preparing"
   ]
  },
  {
   "cell_type": "code",
   "execution_count": null,
   "id": "93b299e9",
   "metadata": {
    "id": "slk9Z40hJ98G",
    "outputId": "156ecb82-04cd-4524-8ab0-c88ac5663fc5",
    "papermill": {
     "duration": 2.226496,
     "end_time": "2022-04-23T01:10:54.217416",
     "exception": false,
     "start_time": "2022-04-23T01:10:51.990920",
     "status": "completed"
    },
    "tags": []
   },
   "outputs": [],
   "source": [
    "train_datagen = ImageDataGenerator(\n",
    "    featurewise_center=True,\n",
    "    samplewise_center=False,\n",
    "    featurewise_std_normalization=True,\n",
    "    samplewise_std_normalization=False,\n",
    "    zca_whitening=False,\n",
    "    zca_epsilon=1e-06,\n",
    "    rotation_range=0,\n",
    "    width_shift_range=0.0,\n",
    "    height_shift_range=0.0,\n",
    "    brightness_range=None,\n",
    "    shear_range=0.0,\n",
    "    zoom_range=0.0,\n",
    "    channel_shift_range=0.0,\n",
    "    fill_mode='nearest',\n",
    "    cval=0.0,\n",
    "    horizontal_flip=False,\n",
    "    vertical_flip=False,\n",
    "    rescale=1.0/255.0,\n",
    "    preprocessing_function=None,\n",
    "    data_format=None,\n",
    "    dtype=None)\n",
    "test_datagen = ImageDataGenerator(\n",
    "    featurewise_center=True,\n",
    "    samplewise_center=False,\n",
    "    featurewise_std_normalization=True,\n",
    "    samplewise_std_normalization=False,\n",
    "    zca_whitening=False,\n",
    "    zca_epsilon=1e-06,\n",
    "    rotation_range=0,\n",
    "    width_shift_range=0.0,\n",
    "    height_shift_range=0.0,\n",
    "    brightness_range=None,\n",
    "    shear_range=0.0,\n",
    "    zoom_range=0.0,\n",
    "    channel_shift_range=0.0,\n",
    "    fill_mode='nearest',\n",
    "    cval=0.0,\n",
    "    horizontal_flip=False,\n",
    "    vertical_flip=False,\n",
    "    rescale=1.0/255.0,\n",
    "    preprocessing_function=None,\n",
    "    data_format=None,\n",
    "    dtype=None)\n",
    "train_generator = train_datagen.flow_from_directory(\"../input/human-action-detection-artificial-intelligence/emirhan_human_dataset/datasets/human_data/train_data\",target_size=(128, 128),\n",
    "                                                    batch_size=128,\n",
    "                                                    class_mode='categorical',\n",
    "                                                    interpolation=\"nearest\")\n",
    "test_generator = test_datagen.flow_from_directory(\"../input/human-action-detection-artificial-intelligence/emirhan_human_dataset/datasets/human_data/test_data\",target_size=(128, 128),\n",
    "                                                    batch_size=128,\n",
    "                                                    class_mode='categorical',\n",
    "                                                    interpolation=\"nearest\")"
   ]
  },
  {
   "cell_type": "markdown",
   "id": "f7bc61d9",
   "metadata": {
    "id": "zrxHiiwY-xDV",
    "papermill": {
     "duration": 0.029169,
     "end_time": "2022-04-23T01:10:54.277329",
     "exception": false,
     "start_time": "2022-04-23T01:10:54.248160",
     "status": "completed"
    },
    "tags": []
   },
   "source": [
    "## 🧱 Models Structure and Code [Function]"
   ]
  },
  {
   "cell_type": "code",
   "execution_count": null,
   "id": "5d857eda",
   "metadata": {
    "id": "tbYGWaUb6Gkp",
    "papermill": {
     "duration": 0.04988,
     "end_time": "2022-04-23T01:10:54.359380",
     "exception": false,
     "start_time": "2022-04-23T01:10:54.309500",
     "status": "completed"
    },
    "tags": []
   },
   "outputs": [],
   "source": [
    "def func(pre,name_model):\n",
    "    print('#####~Model => {} '.format(name_model))\n",
    "    pre_model = name_model(input_shape=(128,128, 3),\n",
    "                   include_top=False,\n",
    "                   weights='imagenet',\n",
    "                   pooling='avg')\n",
    "    pre_model.trainable = False\n",
    "    inputs = pre_model.input\n",
    "    x = Dense(64, activation='relu')(pre_model.output)\n",
    "    x = Dense(64, activation='relu')(x)\n",
    "    outputs = Dense(15, activation='softmax')(x)\n",
    "    model = Model(inputs=inputs, outputs=outputs)\n",
    "    model.compile(loss = 'categorical_crossentropy',optimizer='Adam',metrics=['accuracy'])\n",
    "    my_callbacks  = [EarlyStopping(monitor='val_loss',\n",
    "                              min_delta=0,\n",
    "                              patience=5,\n",
    "                              mode='auto')]\n",
    "    \n",
    "    history = model.fit(train_generator,validation_data=test_generator,epochs=5,callbacks=my_callbacks,verbose=0)\n",
    "    # Plotting Accuracy, val_accuracy, loss, val_loss\n",
    "    fig, ax = plt.subplots(1, 2, figsize=(10, 3))\n",
    "    ax = ax.ravel()\n",
    "\n",
    "    for i, met in enumerate(['accuracy', 'loss']):\n",
    "        ax[i].plot(history.history[met])\n",
    "        ax[i].plot(history.history['val_' + met])\n",
    "        ax[i].set_title('Model {}'.format(met))\n",
    "        ax[i].set_xlabel('epochs')\n",
    "        ax[i].set_ylabel(met)\n",
    "        ax[i].legend(['Train', 'Validation'])\n",
    "    plt.show()\n",
    "    \n",
    "    # Predict Data Test\n",
    "    pred = model.predict(test_generator)\n",
    "    pred = np.argmax(pred,axis=1)\n",
    "    labels = (train_generator.class_indices)\n",
    "    labels = dict((v,k) for k,v in labels.items())\n",
    "    pred = [labels[k] for k in pred]\n",
    "    \n",
    "    print('\\033[01m              Classification_report \\033[0m')\n",
    "    \n",
    "    print('\\033[01m              Results \\033[0m')\n",
    "    # Results\n",
    "    results = model.evaluate(test_generator, verbose=0)\n",
    "    print(\"    Test Loss:\\033[31m \\033[01m {:.5f} \\033[30m \\033[0m\".format(results[0]))\n",
    "    print(\"Test Accuracy:\\033[32m \\033[01m {:.2f}% \\033[30m \\033[0m\".format(results[1] * 100))\n",
    "    \n",
    "    return results"
   ]
  },
  {
   "cell_type": "code",
   "execution_count": null,
   "id": "815508b0",
   "metadata": {
    "id": "aQfN3sSV2B8e",
    "papermill": {
     "duration": 0.059798,
     "end_time": "2022-04-23T01:10:54.453854",
     "exception": false,
     "start_time": "2022-04-23T01:10:54.394056",
     "status": "completed"
    },
    "tags": []
   },
   "outputs": [],
   "source": [
    "def emir_model():\n",
    "  inp = Input(shape = (128,128,3))\n",
    "\n",
    "  x = Conv2D(32, (3,3), strides=(1, 1), padding='same', activation='relu', use_bias=True)(inp)\n",
    "  x = BatchNormalization()(x)\n",
    "  x = Conv2D(32, (3,3), strides=(1, 1), padding='same', activation='relu', use_bias=True)(x)\n",
    "  x = BatchNormalization()(x)\n",
    "  x = MaxPooling2D(pool_size=(2, 2), strides=(2,2), padding='same', data_format=None)(x)\n",
    "  x = Conv2D(64, (3,3), strides=(1, 1), padding='same', activation='relu', use_bias=True)(x)\n",
    "  x = BatchNormalization()(x)\n",
    "  x = Conv2D(64, (3,3), strides=(1, 1), padding='same', activation='relu', use_bias=True)(x)\n",
    "  x = BatchNormalization()(x)\n",
    "  x = MaxPooling2D(pool_size=(2, 2), strides=(2,2), padding='same', data_format=None)(x)\n",
    "  x = Conv2D(128, (3,3), strides=(1, 1), padding='same', activation='relu', use_bias=True)(x)\n",
    "  x = BatchNormalization()(x)\n",
    "  x = Conv2D(128, (3,3), strides=(1, 1), padding='same', activation='relu', use_bias=True)(x)\n",
    "  x = BatchNormalization()(x)\n",
    "  x = MaxPooling2D(pool_size=(2, 2), strides=(2,2), padding='same', data_format=None)(x)\n",
    "  x = Conv2D(256, (3,3), strides=(1, 1), padding='same', activation='relu', use_bias=True)(x)\n",
    "  x = BatchNormalization()(x)\n",
    "  x = Conv2D(256, (3,3), strides=(1, 1), padding='same', activation='relu', use_bias=True)(x)\n",
    "  x = BatchNormalization()(x)\n",
    "  x = MaxPooling2D(pool_size=(2, 2), strides=(2,2), padding='same', data_format=None)(x)\n",
    "  x = Conv2D(512, (3,3), strides=(1, 1), padding='same', activation='relu', use_bias=True)(x)\n",
    "  x = BatchNormalization()(x)\n",
    "  x = Conv2D(512, (3,3), strides=(1, 1), padding='same', activation='relu', use_bias=True)(x)\n",
    "  x = BatchNormalization()(x)\n",
    "  x = MaxPooling2D(pool_size=(2, 2), strides=(2,2), padding='same', data_format=None)(x)\n",
    "  x = Conv2D(1024, (3,3), strides=(2, 2), padding='same', activation='relu', use_bias=True)(x)\n",
    "  x = BatchNormalization()(x)\n",
    "  x = Conv2D(512, (3,3), strides=(1, 1), padding='same', activation='relu', use_bias=True)(x)\n",
    "  x = BatchNormalization()(x)\n",
    "  x = MaxPooling2D(pool_size=(2, 2), strides=(2,2), padding='same', data_format=None)(x)\n",
    "  x = GlobalAveragePooling2D()(x)\n",
    "  x = Dense(128, activation='relu')(x)\n",
    "  x = Dropout(0.2)(x)\n",
    "  x = Dense(256, activation='relu')(x)\n",
    "  x = Dropout(0.2)(x)\n",
    "  x = Dense(15, activation='softmax')(x)\n",
    "\n",
    "  model = Model(inputs=inp, outputs= x)\n",
    "  return model"
   ]
  },
  {
   "cell_type": "code",
   "execution_count": null,
   "id": "e137c751",
   "metadata": {
    "id": "ug-8awarRgT2",
    "papermill": {
     "duration": 0.047401,
     "end_time": "2022-04-23T01:10:54.535073",
     "exception": false,
     "start_time": "2022-04-23T01:10:54.487672",
     "status": "completed"
    },
    "tags": []
   },
   "outputs": [],
   "source": [
    "def emirhan_func(name_model):\n",
    "\n",
    "    print('#####~Model => {} '.format(name_model))\n",
    "\n",
    "    model = emir_model()\n",
    "    model.summary()\n",
    "\n",
    "    model.compile(optimizer=\"adam\",loss=\"categorical_crossentropy\",metrics=[\"accuracy\"])\n",
    "    my_callbacks  = [EarlyStopping(monitor='val_loss',\n",
    "                              min_delta=0,\n",
    "                              patience=5,\n",
    "                              mode='auto')]\n",
    "    \n",
    "    history = model.fit(train_generator,\n",
    "                        validation_data=test_generator,\n",
    "                        epochs=64,\n",
    "                        callbacks=my_callbacks,\n",
    "                        verbose=0,\n",
    "                        batch_size=128,)\n",
    "    # Plotting Accuracy, val_accuracy, loss, val_loss\n",
    "    fig, ax = plt.subplots(1, 2, figsize=(10, 3))\n",
    "    ax = ax.ravel()\n",
    "\n",
    "    for i, met in enumerate(['accuracy', 'loss']):\n",
    "        ax[i].plot(history.history[met])\n",
    "        ax[i].plot(history.history['val_' + met])\n",
    "        ax[i].set_title('Model {}'.format(met))\n",
    "        ax[i].set_xlabel('epochs')\n",
    "        ax[i].set_ylabel(met)\n",
    "        ax[i].legend(['Train', 'Validation'])\n",
    "    plt.show()\n",
    "    \n",
    "    # Predict Data Test\n",
    "    pred = model.predict(test_generator)\n",
    "    pred = np.argmax(pred,axis=1)\n",
    "    labels = (train_generator.class_indices)\n",
    "    labels = dict((v,k) for k,v in labels.items())\n",
    "    pred = [labels[k] for k in pred]\n",
    "    \n",
    "    print('\\033[01m              Classification_report \\033[0m')\n",
    "    \n",
    "    print('\\033[01m              Results \\033[0m')\n",
    "    # Results\n",
    "    results = model.evaluate(test_generator, verbose=0)\n",
    "    print(\"    Test Loss:\\033[31m \\033[01m {:.5f} \\033[30m \\033[0m\".format(results[0]))\n",
    "    print(\"Test Accuracy:\\033[32m \\033[01m {:.2f}% \\033[30m \\033[0m\".format(results[1] * 100))\n",
    "    \n",
    "    return results"
   ]
  },
  {
   "cell_type": "code",
   "execution_count": null,
   "id": "e036eb54",
   "metadata": {
    "id": "O2NGUNEexwCY",
    "papermill": {
     "duration": 0.049711,
     "end_time": "2022-04-23T01:10:54.619208",
     "exception": false,
     "start_time": "2022-04-23T01:10:54.569497",
     "status": "completed"
    },
    "tags": []
   },
   "outputs": [],
   "source": [
    "def depth(x, strides):\n",
    "    x = DepthwiseConv2D(3,strides=strides,padding='same',  use_bias=False)(x)\n",
    "    x = BatchNormalization()(x)\n",
    "    x = ReLU()(x)\n",
    "    return x\n",
    "def single_conv_block(x,filters):\n",
    "    x = Conv2D(filters,1,use_bias=False)(x)\n",
    "    x= BatchNormalization()(x)\n",
    "    x = ReLU()(x)\n",
    "    x = SpatialDropout2D(0.2)(x)\n",
    "    return x\n",
    "def hidden_layers(x,filters,strides):\n",
    "    x = depth(x,strides)\n",
    "    x = single_conv_block(x, filters)\n",
    "    return x\n",
    "def EmirhanModel(input_shape=(128,128,3),n_classes = 15):\n",
    "    input = Input (input_shape)\n",
    "    x = Conv2D(32,3,strides=(2,2),padding = 'same', use_bias=False) (input)\n",
    "    x = BatchNormalization()(x)\n",
    "    x = ReLU()(x)\n",
    "    x = ZeroPadding2D(padding=(2, 2))(x)\n",
    "    x = hidden_layers(x,64, strides=(1,1))\n",
    "    x = hidden_layers(x,128,strides=(2,2))\n",
    "    x = hidden_layers(x,128,strides=(1,1))\n",
    "    x = hidden_layers(x,256,strides=(2,2))\n",
    "    x = hidden_layers(x,256,strides=(1,1))\n",
    "    x = hidden_layers(x,512,strides=(2,2))\n",
    "    for _ in range(5):\n",
    "      x = hidden_layers(x,512,strides=(1,1))\n",
    "      x = hidden_layers(x,1024,strides=(2,2))\n",
    "      x = hidden_layers(x,1024,strides=(1,1))\n",
    "      x = GlobalAveragePooling2D()(x)\n",
    "      x = Dense(64, activation='relu')(x)\n",
    "      x = Dense(64, activation='relu')(x)\n",
    "      output = Dense(n_classes,activation='softmax')(x)\n",
    "      model = Model(input, output)\n",
    "      return model\n",
    "number_of_classes = 15\n",
    "input_shape = (128,128,3)"
   ]
  },
  {
   "cell_type": "code",
   "execution_count": null,
   "id": "bce1d57d",
   "metadata": {
    "id": "DWJrJSEyYwcW",
    "papermill": {
     "duration": 0.048615,
     "end_time": "2022-04-23T01:10:54.701533",
     "exception": false,
     "start_time": "2022-04-23T01:10:54.652918",
     "status": "completed"
    },
    "tags": []
   },
   "outputs": [],
   "source": [
    "def emirhan(name_model):\n",
    "\n",
    "    print('#####~Model => {} '.format(name_model))\n",
    "\n",
    "    model = EmirhanModel(input_shape,number_of_classes)\n",
    "    print(model.summary())\n",
    "    model.compile(optimizer=\"adam\",loss=\"categorical_crossentropy\",metrics=[\"accuracy\"])\n",
    "    my_callbacks  = [EarlyStopping(monitor='val_loss',\n",
    "                              min_delta=0,\n",
    "                              patience=5,\n",
    "                              mode='auto')]\n",
    "    \n",
    "    history = model.fit(train_generator,\n",
    "                        validation_data=test_generator,\n",
    "                        epochs=64,\n",
    "                        callbacks=my_callbacks,\n",
    "                        verbose=0,\n",
    "                        batch_size=128,)\n",
    "    # Plotting Accuracy, val_accuracy, loss, val_loss\n",
    "    fig, ax = plt.subplots(1, 2, figsize=(10, 3))\n",
    "    ax = ax.ravel()\n",
    "\n",
    "    for i, met in enumerate(['accuracy', 'loss']):\n",
    "        ax[i].plot(history.history[met])\n",
    "        ax[i].plot(history.history['val_' + met])\n",
    "        ax[i].set_title('Model {}'.format(met))\n",
    "        ax[i].set_xlabel('epochs')\n",
    "        ax[i].set_ylabel(met)\n",
    "        ax[i].legend(['Train', 'Validation'])\n",
    "    plt.show()\n",
    "    \n",
    "    # Predict Data Test\n",
    "    pred = model.predict(test_generator)\n",
    "    pred = np.argmax(pred,axis=1)\n",
    "    labels = (train_generator.class_indices)\n",
    "    labels = dict((v,k) for k,v in labels.items())\n",
    "    pred = [labels[k] for k in pred]\n",
    "    \n",
    "    print('\\033[01m              Classification_report \\033[0m')\n",
    "    \n",
    "    print('\\033[01m              Results \\033[0m')\n",
    "    # Results\n",
    "    results = model.evaluate(test_generator, verbose=0)\n",
    "    print(\"    Test Loss:\\033[31m \\033[01m {:.5f} \\033[30m \\033[0m\".format(results[0]))\n",
    "    print(\"Test Accuracy:\\033[32m \\033[01m {:.2f}% \\033[30m \\033[0m\".format(results[1] * 100))\n",
    "    \n",
    "    return results"
   ]
  },
  {
   "cell_type": "markdown",
   "id": "2ce23e62",
   "metadata": {
    "id": "hxrVKHKbtMYs",
    "papermill": {
     "duration": 0.033146,
     "end_time": "2022-04-23T01:10:54.768301",
     "exception": false,
     "start_time": "2022-04-23T01:10:54.735155",
     "status": "completed"
    },
    "tags": []
   },
   "source": [
    "## 🏃‍♂️ Prep Models and My Model Benchmark Scores"
   ]
  },
  {
   "cell_type": "markdown",
   "id": "63801509",
   "metadata": {
    "id": "e_giDE7juJUd",
    "papermill": {
     "duration": 0.033363,
     "end_time": "2022-04-23T01:10:54.834909",
     "exception": false,
     "start_time": "2022-04-23T01:10:54.801546",
     "status": "completed"
    },
    "tags": []
   },
   "source": [
    "### VGG19"
   ]
  },
  {
   "cell_type": "code",
   "execution_count": null,
   "id": "f8702697",
   "metadata": {
    "id": "bxoxknJTtu8-",
    "outputId": "e54da035-8ddf-47d4-fe0f-4c7494eb9bd3",
    "papermill": {
     "duration": 230.318448,
     "end_time": "2022-04-23T01:14:45.183551",
     "exception": false,
     "start_time": "2022-04-23T01:10:54.865103",
     "status": "completed"
    },
    "tags": []
   },
   "outputs": [],
   "source": [
    "from tensorflow.keras.applications import VGG19\n",
    "from tensorflow.keras.applications.vgg19 import preprocess_input\n",
    "result_VGG19 = func(preprocess_input,VGG19)"
   ]
  },
  {
   "cell_type": "markdown",
   "id": "1354f513",
   "metadata": {
    "id": "fwxzsSsruO2X",
    "papermill": {
     "duration": 0.037952,
     "end_time": "2022-04-23T01:14:45.259732",
     "exception": false,
     "start_time": "2022-04-23T01:14:45.221780",
     "status": "completed"
    },
    "tags": []
   },
   "source": [
    "### VGG16"
   ]
  },
  {
   "cell_type": "code",
   "execution_count": null,
   "id": "b830432e",
   "metadata": {
    "id": "eY4zBbvEt1H2",
    "outputId": "6aa0a6d7-71a4-48e0-a95e-849204e01f42",
    "papermill": {
     "duration": 183.786636,
     "end_time": "2022-04-23T01:17:49.084679",
     "exception": false,
     "start_time": "2022-04-23T01:14:45.298043",
     "status": "completed"
    },
    "tags": []
   },
   "outputs": [],
   "source": [
    "from tensorflow.keras.applications import VGG16\n",
    "from tensorflow.keras.applications.vgg16 import preprocess_input\n",
    "result_VGG16 = func(preprocess_input,VGG16)"
   ]
  },
  {
   "cell_type": "markdown",
   "id": "44d0a237",
   "metadata": {
    "id": "7CoNYxrmuXIE",
    "papermill": {
     "duration": 0.044194,
     "end_time": "2022-04-23T01:17:49.173513",
     "exception": false,
     "start_time": "2022-04-23T01:17:49.129319",
     "status": "completed"
    },
    "tags": []
   },
   "source": [
    "### ResNet50"
   ]
  },
  {
   "cell_type": "code",
   "execution_count": null,
   "id": "cc696787",
   "metadata": {
    "id": "nK3G3ujHuWlc",
    "outputId": "75ce52e0-68b2-46a6-a417-4fb51e2f536e",
    "papermill": {
     "duration": 196.910981,
     "end_time": "2022-04-23T01:21:06.127231",
     "exception": false,
     "start_time": "2022-04-23T01:17:49.216250",
     "status": "completed"
    },
    "tags": []
   },
   "outputs": [],
   "source": [
    "from tensorflow.keras.applications import ResNet50\n",
    "from tensorflow.keras.applications.resnet50 import preprocess_input\n",
    "result_ResNet50 = func(preprocess_input,ResNet50)"
   ]
  },
  {
   "cell_type": "markdown",
   "id": "d24a21e9",
   "metadata": {
    "id": "BUF6ZYCsugkO",
    "papermill": {
     "duration": 0.049847,
     "end_time": "2022-04-23T01:21:06.228230",
     "exception": false,
     "start_time": "2022-04-23T01:21:06.178383",
     "status": "completed"
    },
    "tags": []
   },
   "source": [
    "### ResNet101"
   ]
  },
  {
   "cell_type": "code",
   "execution_count": null,
   "id": "61a14c39",
   "metadata": {
    "papermill": {
     "duration": 206.787486,
     "end_time": "2022-04-23T01:24:33.065796",
     "exception": false,
     "start_time": "2022-04-23T01:21:06.278310",
     "status": "completed"
    },
    "tags": []
   },
   "outputs": [],
   "source": [
    "from tensorflow.keras.applications import ResNet101\n",
    "from tensorflow.keras.applications.resnet import preprocess_input\n",
    "result_ResNet101 = func(preprocess_input,ResNet101)"
   ]
  },
  {
   "cell_type": "markdown",
   "id": "3a6a446d",
   "metadata": {
    "id": "XEvRLYk0vGmi",
    "papermill": {
     "duration": 0.062167,
     "end_time": "2022-04-23T01:24:33.188458",
     "exception": false,
     "start_time": "2022-04-23T01:24:33.126291",
     "status": "completed"
    },
    "tags": []
   },
   "source": [
    "### MobileNet"
   ]
  },
  {
   "cell_type": "code",
   "execution_count": null,
   "id": "9e21e592",
   "metadata": {
    "id": "WOyByv7UvFl9",
    "outputId": "14448672-d2c3-4e33-8ad1-07eae93eab29",
    "papermill": {
     "duration": 186.090558,
     "end_time": "2022-04-23T01:27:39.338227",
     "exception": false,
     "start_time": "2022-04-23T01:24:33.247669",
     "status": "completed"
    },
    "tags": []
   },
   "outputs": [],
   "source": [
    "from tensorflow.keras.applications import MobileNet\n",
    "from tensorflow.keras.applications.mobilenet import preprocess_input\n",
    "result_MobileNet = func(preprocess_input,MobileNet)"
   ]
  },
  {
   "cell_type": "markdown",
   "id": "caa4fa8c",
   "metadata": {
    "id": "ZCzitLzRw0dY",
    "papermill": {
     "duration": 0.064329,
     "end_time": "2022-04-23T01:27:39.465773",
     "exception": false,
     "start_time": "2022-04-23T01:27:39.401444",
     "status": "completed"
    },
    "tags": []
   },
   "source": [
    "### DenseNet201"
   ]
  },
  {
   "cell_type": "code",
   "execution_count": null,
   "id": "7027fcca",
   "metadata": {
    "id": "X7uq1iwAw0Gl",
    "outputId": "3eff8b2b-28e0-4e7f-f8bd-8ae9f3355712",
    "papermill": {
     "duration": 219.617327,
     "end_time": "2022-04-23T01:31:19.170588",
     "exception": false,
     "start_time": "2022-04-23T01:27:39.553261",
     "status": "completed"
    },
    "tags": []
   },
   "outputs": [],
   "source": [
    "from tensorflow.keras.applications import DenseNet201\n",
    "from tensorflow.keras.applications.densenet import preprocess_input\n",
    "result_DenseNet201 = func(preprocess_input,DenseNet201)"
   ]
  },
  {
   "cell_type": "markdown",
   "id": "aec79a2b",
   "metadata": {
    "id": "WIPgKZwVuQs4",
    "papermill": {
     "duration": 0.070012,
     "end_time": "2022-04-23T01:31:19.309865",
     "exception": false,
     "start_time": "2022-04-23T01:31:19.239853",
     "status": "completed"
    },
    "tags": []
   },
   "source": [
    "### EfficientNetB7"
   ]
  },
  {
   "cell_type": "code",
   "execution_count": null,
   "id": "cecbdb5d",
   "metadata": {
    "id": "pogTMEULfHIq",
    "outputId": "a4ffd0dd-19b9-49a7-87ba-440c5a22282b",
    "papermill": {
     "duration": 308.348853,
     "end_time": "2022-04-23T01:36:27.727850",
     "exception": false,
     "start_time": "2022-04-23T01:31:19.378997",
     "status": "completed"
    },
    "tags": []
   },
   "outputs": [],
   "source": [
    "from tensorflow.keras.applications import EfficientNetB7\n",
    "from tensorflow.keras.applications.efficientnet import preprocess_input\n",
    "result_Eff = func(preprocess_input,EfficientNetB7)"
   ]
  },
  {
   "cell_type": "markdown",
   "id": "c80cfb52",
   "metadata": {
    "id": "GnRgLYDZw6NH",
    "papermill": {
     "duration": 0.087385,
     "end_time": "2022-04-23T01:36:27.906236",
     "exception": false,
     "start_time": "2022-04-23T01:36:27.818851",
     "status": "completed"
    },
    "tags": []
   },
   "source": [
    "### Xception"
   ]
  },
  {
   "cell_type": "code",
   "execution_count": null,
   "id": "28ba48d0",
   "metadata": {
    "id": "3axFrFQgw5nJ",
    "outputId": "c6c4ac9a-fd02-4525-abf2-3f7749efdc9c",
    "papermill": {
     "duration": 203.727676,
     "end_time": "2022-04-23T01:39:51.735039",
     "exception": false,
     "start_time": "2022-04-23T01:36:28.007363",
     "status": "completed"
    },
    "tags": []
   },
   "outputs": [],
   "source": [
    "from tensorflow.keras.applications import Xception\n",
    "from tensorflow.keras.applications.xception import preprocess_input\n",
    "result_Xception = func(preprocess_input,Xception)"
   ]
  },
  {
   "cell_type": "markdown",
   "id": "7418e444",
   "metadata": {
    "id": "hTfd-l3YwvEo",
    "papermill": {
     "duration": 0.094556,
     "end_time": "2022-04-23T01:39:51.921038",
     "exception": false,
     "start_time": "2022-04-23T01:39:51.826482",
     "status": "completed"
    },
    "tags": []
   },
   "source": [
    "### InceptionResNetV2"
   ]
  },
  {
   "cell_type": "code",
   "execution_count": null,
   "id": "22584e22",
   "metadata": {
    "id": "bPbWzdiLwuaN",
    "outputId": "6529ed32-d7ad-4502-c0c0-ddb50b6f19e3",
    "papermill": {
     "duration": 226.898178,
     "end_time": "2022-04-23T01:43:38.916386",
     "exception": false,
     "start_time": "2022-04-23T01:39:52.018208",
     "status": "completed"
    },
    "tags": []
   },
   "outputs": [],
   "source": [
    "from tensorflow.keras.applications import InceptionResNetV2\n",
    "from tensorflow.keras.applications.inception_resnet_v2 import preprocess_input\n",
    "result_InResNetV2 = func(preprocess_input,InceptionResNetV2)"
   ]
  },
  {
   "cell_type": "markdown",
   "id": "bd88db7a",
   "metadata": {
    "id": "4_Xpi8WN-kBd",
    "papermill": {
     "duration": 0.103934,
     "end_time": "2022-04-23T01:43:39.125802",
     "exception": false,
     "start_time": "2022-04-23T01:43:39.021868",
     "status": "completed"
    },
    "tags": []
   },
   "source": [
    "### Model Emirhan"
   ]
  },
  {
   "cell_type": "code",
   "execution_count": null,
   "id": "a9e12bad",
   "metadata": {
    "id": "Z18CXqJL6kml",
    "outputId": "0e2927b7-f027-4313-e2e8-21e01bb812c3",
    "papermill": {
     "duration": 613.753252,
     "end_time": "2022-04-23T01:53:52.982973",
     "exception": false,
     "start_time": "2022-04-23T01:43:39.229721",
     "status": "completed"
    },
    "tags": []
   },
   "outputs": [],
   "source": [
    "model_name = \"Emirhan_Human_Action_Detection_with_Artificial_Intelligence\"\n",
    "result_emirhan = emirhan_func(model_name)"
   ]
  },
  {
   "cell_type": "markdown",
   "id": "80cbbe67",
   "metadata": {
    "id": "msmvFgrd7-4h",
    "papermill": {
     "duration": 0.110651,
     "end_time": "2022-04-23T01:53:53.208553",
     "exception": false,
     "start_time": "2022-04-23T01:53:53.097902",
     "status": "completed"
    },
    "tags": []
   },
   "source": [
    "## 📊 Finally Result of Table (DataFrame - Pandas)"
   ]
  },
  {
   "cell_type": "code",
   "execution_count": null,
   "id": "d850025c",
   "metadata": {
    "id": "kXAc_cPy7pMD",
    "papermill": {
     "duration": 0.118806,
     "end_time": "2022-04-23T01:53:53.434562",
     "exception": false,
     "start_time": "2022-04-23T01:53:53.315756",
     "status": "completed"
    },
    "tags": []
   },
   "outputs": [],
   "source": [
    "accuracy_result_table = pd.DataFrame({'Model':['Emirhan_Model','VGG16','VGG19','ResNet50','ResNet101','MobileNet','InceptionResNetV2',\n",
    "                               'DenseNet201','Xception','EfficientNetB7'],\n",
    "                      'Accuracy':[result_emirhan[1],result_VGG16[1], result_VGG19[1], result_ResNet50[1], result_ResNet101[1],\n",
    "                                  result_MobileNet[1],result_InResNetV2[1],result_DenseNet201[1],result_Xception[1],\n",
    "                                 result_Eff[1]]})"
   ]
  },
  {
   "cell_type": "code",
   "execution_count": null,
   "id": "5ad60a56",
   "metadata": {
    "id": "hTJSLRKS712R",
    "outputId": "80b2a372-31d0-4e26-f183-249f95d27107",
    "papermill": {
     "duration": 0.120346,
     "end_time": "2022-04-23T01:53:53.661221",
     "exception": false,
     "start_time": "2022-04-23T01:53:53.540875",
     "status": "completed"
    },
    "tags": []
   },
   "outputs": [],
   "source": [
    "accuracy_result_table"
   ]
  },
  {
   "cell_type": "code",
   "execution_count": null,
   "id": "aadd9fd0",
   "metadata": {
    "id": "wSd3aT7QULoB",
    "outputId": "88af09c2-aa4b-4a67-a920-4593d23e4d9b",
    "papermill": {
     "duration": 0.443358,
     "end_time": "2022-04-23T01:53:54.220252",
     "exception": false,
     "start_time": "2022-04-23T01:53:53.776894",
     "status": "completed"
    },
    "tags": []
   },
   "outputs": [],
   "source": [
    "plt.figure(figsize=(12, 7))\n",
    "plots = sns.barplot(x='Model', y='Accuracy', data=accuracy_result_table)\n",
    "for bar in plots.patches:\n",
    "    plots.annotate(format(bar.get_height(), '.2f'),\n",
    "                   (bar.get_x() + bar.get_width() / 2,\n",
    "                    bar.get_height()), ha='center', va='center',\n",
    "                   size=15, xytext=(0, 9),\n",
    "                   textcoords='offset points')\n",
    "\n",
    "plt.xlabel(\"Models\")\n",
    "plt.ylabel(\"Accuracy\")\n",
    "plt.xticks(rotation=20);"
   ]
  },
  {
   "cell_type": "code",
   "execution_count": null,
   "id": "91392086",
   "metadata": {
    "id": "0aKrKJeKQMiW",
    "papermill": {
     "duration": 0.206634,
     "end_time": "2022-04-23T01:53:54.629554",
     "exception": false,
     "start_time": "2022-04-23T01:53:54.422920",
     "status": "completed"
    },
    "tags": []
   },
   "outputs": [],
   "source": [
    "loss_result_table = pd.DataFrame({'Model':['Emirhan_Model','VGG16','VGG19','ResNet50','ResNet101','MobileNet','InceptionResNetV2',\n",
    "                               'DenseNet201','Xception','EfficientNetB7'],\n",
    "                      'Loss':[result_emirhan[0],result_VGG16[0], result_VGG19[0], result_ResNet50[0], result_ResNet101[0],\n",
    "                                  result_MobileNet[0],result_InResNetV2[0],result_DenseNet201[0],result_Xception[0],\n",
    "                                 result_Eff[0]]})"
   ]
  },
  {
   "cell_type": "code",
   "execution_count": null,
   "id": "8d276aa3",
   "metadata": {
    "id": "Gsxfa0V4QXcA",
    "outputId": "f2a3e547-bda5-4c6a-b55d-b47f437d80eb",
    "papermill": {
     "duration": 0.128098,
     "end_time": "2022-04-23T01:53:54.938758",
     "exception": false,
     "start_time": "2022-04-23T01:53:54.810660",
     "status": "completed"
    },
    "tags": []
   },
   "outputs": [],
   "source": [
    "loss_result_table"
   ]
  },
  {
   "cell_type": "code",
   "execution_count": null,
   "id": "f519b017",
   "metadata": {
    "id": "RWAzDPdHUOcT",
    "outputId": "5d3faa4b-554f-408c-e6e9-bdae72cbadb9",
    "papermill": {
     "duration": 0.394098,
     "end_time": "2022-04-23T01:53:55.453496",
     "exception": false,
     "start_time": "2022-04-23T01:53:55.059398",
     "status": "completed"
    },
    "tags": []
   },
   "outputs": [],
   "source": [
    "plt.figure(figsize=(12, 7))\n",
    "plots = sns.barplot(x='Model', y='Loss', data=loss_result_table)\n",
    "for bar in plots.patches:\n",
    "    plots.annotate(format(bar.get_height(), '.2f'),\n",
    "                   (bar.get_x() + bar.get_width() / 2,\n",
    "                    bar.get_height()), ha='center', va='center',\n",
    "                   size=15, xytext=(0, 9),\n",
    "                   textcoords='offset points')\n",
    "\n",
    "plt.xlabel(\"Models\")\n",
    "plt.ylabel(\"Loss\")\n",
    "plt.xticks(rotation=20);"
   ]
  }
 ],
 "metadata": {
  "kernelspec": {
   "display_name": "Python 3 (ipykernel)",
   "language": "python",
   "name": "python3"
  },
  "language_info": {
   "codemirror_mode": {
    "name": "ipython",
    "version": 3
   },
   "file_extension": ".py",
   "mimetype": "text/x-python",
   "name": "python",
   "nbconvert_exporter": "python",
   "pygments_lexer": "ipython3",
   "version": "3.11.7"
  },
  "papermill": {
   "default_parameters": {},
   "duration": 2602.396257,
   "end_time": "2022-04-23T01:53:59.052967",
   "environment_variables": {},
   "exception": null,
   "input_path": "__notebook__.ipynb",
   "output_path": "__notebook__.ipynb",
   "parameters": {},
   "start_time": "2022-04-23T01:10:36.656710",
   "version": "2.3.4"
  }
 },
 "nbformat": 4,
 "nbformat_minor": 5
}
