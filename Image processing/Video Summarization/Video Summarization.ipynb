{
 "cells": [
  {
   "cell_type": "markdown",
   "id": "a2dc73b1-6f1a-4829-9f3e-68835f0adfc8",
   "metadata": {},
   "source": [
    "# Video Summarization"
   ]
  },
  {
   "cell_type": "code",
   "execution_count": 1,
   "id": "79ad9a99-0a05-4881-8d8b-59fbeadc7581",
   "metadata": {},
   "outputs": [],
   "source": [
    "import cv2 as cv\n",
    "import numpy as np\n",
    "import matplotlib.pyplot as plt\n",
    "import math\n",
    "import os"
   ]
  },
  {
   "cell_type": "code",
   "execution_count": 2,
   "id": "3dda4622-f0d4-4026-8800-e8e61bb551d3",
   "metadata": {},
   "outputs": [],
   "source": [
    "video = cv.VideoCapture(\"Sample.mkv\")"
   ]
  },
  {
   "cell_type": "code",
   "execution_count": 3,
   "id": "e4ebdadd-fabd-42d2-8cc6-f67cf38ba78f",
   "metadata": {},
   "outputs": [],
   "source": [
    "i = 1\n",
    "while True:\n",
    "    ret,frame = video.read()\n",
    "\n",
    "    if ret == False:\n",
    "        break\n",
    "\n",
    "    gframe = cv.cvtColor(frame,cv.COLOR_BGR2GRAY)\n",
    "    cv.imwrite(\"./vout1/picture\" + str(i) + \".png\", frame)\n",
    "    cv.imwrite(\"./grayvout1/picture\" + str(i) + \".png\", gframe)\n",
    "    i = i+1\n",
    "    \n",
    "    cv.imshow(\" Video is playing\", frame)\n",
    "    key = cv.waitKey(1)\n",
    "    if key == ord('q'):\n",
    "        break\n",
    "    if key == ord('m'):\n",
    "        cv.waitKey(-1)\n",
    "    \n",
    "video.release()\n",
    "cv.destroyAllWindows()"
   ]
  },
  {
   "cell_type": "code",
   "execution_count": 4,
   "id": "3392be9e-8647-43da-bd5d-6e7f7f6ac1d9",
   "metadata": {},
   "outputs": [],
   "source": [
    "def calEntropy(image):\n",
    "    row, col = image.shape\n",
    "    n = row*col\n",
    "    pixel1 = list(image.ravel())\n",
    "    pixel2 = set(pixel1)\n",
    "\n",
    "    fre = {}\n",
    "    for key in pixel2:\n",
    "        fre[key] = pixel1.count(key)/n\n",
    "        \n",
    "    l = list(fre.keys())\n",
    "\n",
    "\n",
    "    entropy = 0\n",
    "    for x in l:\n",
    "        entropy = entropy + fre[x]*math.log(fre[x],2)\n",
    "    entropy = (-1)*entropy\n",
    "    return entropy"
   ]
  },
  {
   "cell_type": "code",
   "execution_count": 5,
   "id": "608c8d9c-c408-404d-81d5-647714ce3e8a",
   "metadata": {},
   "outputs": [],
   "source": [
    "def getKey(fname):\n",
    "    fin = 7\n",
    "    lin = fname.index('.')\n",
    "    result = fname[fin:lin]\n",
    "    return int(result)"
   ]
  },
  {
   "cell_type": "code",
   "execution_count": 6,
   "id": "1d149dd4-cdcb-44f0-86b6-87c57068234b",
   "metadata": {},
   "outputs": [],
   "source": [
    "def sortFile(files):\n",
    "    files.sort(key = getKey)"
   ]
  },
  {
   "cell_type": "code",
   "execution_count": 7,
   "id": "77057fc6-d60a-4e2e-8e97-9ba2d73a5bd9",
   "metadata": {},
   "outputs": [],
   "source": [
    "files = os.listdir('./grayvout1')"
   ]
  },
  {
   "cell_type": "code",
   "execution_count": 8,
   "id": "04b8ae7b-23ba-46f7-8d8f-1969bf75067e",
   "metadata": {},
   "outputs": [
    {
     "name": "stdout",
     "output_type": "stream",
     "text": [
      "['picture1.png', 'picture10.png', 'picture100.png', 'picture1000.png', 'picture1001.png', 'picture1002.png', 'picture1003.png', 'picture1004.png', 'picture1005.png', 'picture1006.png', 'picture1007.png', 'picture1008.png', 'picture1009.png', 'picture101.png', 'picture1010.png', 'picture1011.png', 'picture1012.png', 'picture1013.png', 'picture1014.png', 'picture1015.png']\n"
     ]
    }
   ],
   "source": [
    "print(files[:20])"
   ]
  },
  {
   "cell_type": "code",
   "execution_count": 9,
   "id": "578afc1f-2c14-47ed-bb14-8585c64e6628",
   "metadata": {},
   "outputs": [
    {
     "name": "stdout",
     "output_type": "stream",
     "text": [
      "['picture1.png', 'picture2.png', 'picture3.png', 'picture4.png', 'picture5.png', 'picture6.png', 'picture7.png', 'picture8.png', 'picture9.png', 'picture10.png', 'picture11.png', 'picture12.png', 'picture13.png', 'picture14.png', 'picture15.png', 'picture16.png', 'picture17.png', 'picture18.png', 'picture19.png', 'picture20.png']\n"
     ]
    }
   ],
   "source": [
    "sortFile(files)\n",
    "print(files[:20])"
   ]
  },
  {
   "cell_type": "markdown",
   "id": "3e413fb0-bc07-405d-9363-6daa216499dc",
   "metadata": {},
   "source": [
    "# Plot the Histogram of All Frames"
   ]
  },
  {
   "cell_type": "code",
   "execution_count": 10,
   "id": "b942763d-3a2f-4e35-aa2a-ae5196d21c28",
   "metadata": {},
   "outputs": [],
   "source": [
    "# listed = []\n",
    "# for f in files:\n",
    "#     image = cv.imread('./grayvout/' + f, 0)\n",
    "#     error = calEntropy(image)\n",
    "#     listed.append(error)"
   ]
  },
  {
   "cell_type": "code",
   "execution_count": 11,
   "id": "0a2db63f-35ad-4af2-a820-99d3f0f54cf5",
   "metadata": {},
   "outputs": [],
   "source": [
    "# x = [i for i in range(len(listed))]\n",
    "# plt.plot(x,listed,color = 'r', label = 'Entropy')\n",
    "# plt.legend()\n",
    "# plt.show()"
   ]
  },
  {
   "cell_type": "markdown",
   "id": "13e2e1ed-51db-4b3a-ab2b-9e75a0f3b045",
   "metadata": {},
   "source": [
    "# Reduce the Number of Frames"
   ]
  },
  {
   "cell_type": "code",
   "execution_count": 12,
   "id": "548a29b0-1293-431e-9fb2-441f1873ec30",
   "metadata": {},
   "outputs": [],
   "source": [
    "def calculate_frame_changes(files):\n",
    "    prev_hist = None\n",
    "    changes = []\n",
    "    for f in files:\n",
    "        image = cv.imread('./grayvout1/' + f, 0)\n",
    "        hist = cv.calcHist([image], [0], None, [256], [0, 256])\n",
    "\n",
    "        if prev_hist is not None:\n",
    "            diff = cv.compareHist(prev_hist, hist, cv.HISTCMP_CHISQR)\n",
    "            changes.append((f, diff))\n",
    "        prev_hist = hist\n",
    "    return changes"
   ]
  },
  {
   "cell_type": "code",
   "execution_count": 13,
   "id": "2d70cacd-3af1-4619-ad83-6b92b821e598",
   "metadata": {},
   "outputs": [],
   "source": [
    "changes = calculate_frame_changes(files)"
   ]
  },
  {
   "cell_type": "code",
   "execution_count": 14,
   "id": "ba2f600e-b37f-453e-859e-6220e4c20095",
   "metadata": {},
   "outputs": [],
   "source": [
    "#for item in changes:\n",
    "    #filename, difference = item\n",
    "    #print(\"Filename:\", filename)\n",
    "    #print(\"Histogram Difference:\", difference)"
   ]
  },
  {
   "cell_type": "code",
   "execution_count": 15,
   "id": "8ebe3363-7b32-4fe4-8b08-affa331880da",
   "metadata": {},
   "outputs": [],
   "source": [
    "def select_frames(changes, num_frames=100):\n",
    "    changes.sort(key=lambda x: x[1], reverse=True)\n",
    "    selected_frames = [x[0] for x in changes[:num_frames]]\n",
    "    return selected_frames"
   ]
  },
  {
   "cell_type": "code",
   "execution_count": 16,
   "id": "83a3e491-aa61-4e48-9fa0-f9d6b2ca61d6",
   "metadata": {},
   "outputs": [],
   "source": [
    "# Calculate frame changes based on histogram differences\n",
    "frame_changes = calculate_frame_changes(files)"
   ]
  },
  {
   "cell_type": "code",
   "execution_count": 17,
   "id": "70ed29d8-0e20-4bfb-8d97-d9141c5f79df",
   "metadata": {},
   "outputs": [],
   "source": [
    "selected_frames = select_frames(frame_changes, num_frames=100)"
   ]
  },
  {
   "cell_type": "code",
   "execution_count": 18,
   "id": "c2fd4a85-666a-4363-9fee-652aebb1d379",
   "metadata": {},
   "outputs": [],
   "source": [
    "# Plot the selected frames\n",
    "listed = []\n",
    "for f in selected_frames:\n",
    "    image = cv.imread('./grayvout1/' + f, 0)\n",
    "    final_imgs = calEntropy(image)\n",
    "    listed.append(final_imgs)"
   ]
  },
  {
   "cell_type": "code",
   "execution_count": 19,
   "id": "ade5864d-ac21-4703-832a-99dbd1d3a860",
   "metadata": {},
   "outputs": [
    {
     "data": {
      "image/png": "[encoded data removed]",
      "text/plain": [
       "<Figure size 640x480 with 1 Axes>"
      ]
     },
     "metadata": {},
     "output_type": "display_data"
    }
   ],
   "source": [
    "x = [i for i in range(len(listed))]\n",
    "plt.plot(x, listed, color='r', label='Entropy')\n",
    "plt.legend()\n",
    "plt.show()"
   ]
  },
  {
   "cell_type": "code",
   "execution_count": 20,
   "id": "28388437-7c1f-4cd9-a906-3b4fd31a7bbb",
   "metadata": {},
   "outputs": [],
   "source": [
    "selected_frames_dir = './selectedFrames'\n",
    "# if not os.path.exists(selected_frames_dir):\n",
    "#     os.makedirs(selected_frames_dir)\n",
    "\n",
    "for f in selected_frames:\n",
    "    image = cv.imread('./grayvout1/' + f, 0)\n",
    "    cv.imwrite(f\"{selected_frames_dir}/{f}\", image)"
   ]
  }
 ],
 "metadata": {
  "kernelspec": {
   "display_name": "Python 3 (ipykernel)",
   "language": "python",
   "name": "python3"
  },
  "language_info": {
   "codemirror_mode": {
    "name": "ipython",
    "version": 3
   },
   "file_extension": ".py",
   "mimetype": "text/x-python",
   "name": "python",
   "nbconvert_exporter": "python",
   "pygments_lexer": "ipython3",
   "version": "3.12.4"
  }
 },
 "nbformat": 4,
 "nbformat_minor": 5
}
